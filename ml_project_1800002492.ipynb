{
 "cells": [
  {
   "cell_type": "markdown",
   "metadata": {},
   "source": [
    "The data come from the Kaggle dataset Car Features and MSRP of Kaggle.   \n",
    "It describes almost 12 000 car models sold in the USA between 1990 and 2018 with the market price (new or used) and some features.   \n",
    "This study aims at performing some data manipulations and define a statistical model to predict the price of a car.   \n",
    "Columnns:   \n",
    "\n",
    "Make                :Car Make   \n",
    "Model               :Car Model   \n",
    "Year                :Car Year (Marketing)   \n",
    "Engine Fuel Type    :Engine Fuel Type   \n",
    "Engine HP           :Engine Horse Power (HP)   \n",
    "Engine Cylinders    :Engine Cylinders   \n",
    "Transmission Type   :Transmission Type   \n",
    "Driven_Wheels       :Driven Wheels   \n",
    "Number of Doors     :Number of Doors   \n",
    "Market Category     :Market Category   \n",
    "Vehicle Size        :Size of Vehicle   \n",
    "Vehicle Style       :Type of Vehicle    \n",
    "highway MPG         :Highway MPG    \n",
    "city mpg            :City MPG (A measure of how far a car can travel if you put just one gallon of petrol or diesel in its tank.)   \n",
    "Popularity          :Popularity (Twitter)   \n",
    "MSRP                :Manufacturer Suggested Retail Price (a price recommended for the sale of an item in all retail outlets.)    \n",
    "\n",
    "MSRP is the manufacturer's suggested retail price, a price recommended for the sale of an item in all retail outlets. A vendor can require retailers to sell its products at the MSRP and refuse to sell its products to a discounter if they price products below it.\n",
    "\n",
    "This dataset consists of 16 Features where we have to predict our Price with the help of features. (Regression) We will observe, analyse, visualize the data. As well as we will perform all the regression algorithms and test with algorithm performs best among all."
   ]
  },
  {
   "cell_type": "code",
   "execution_count": 295,
   "metadata": {},
   "outputs": [],
   "source": [
    "import timeit\n",
    "from sklearn import preprocessing\n",
    "# Object manipulation\n",
    "import statistics\n",
    "import numpy as np\n",
    "import pandas as pd\n",
    "from collections import defaultdict\n",
    "from sklearn.model_selection import train_test_split\n",
    "from sklearn.preprocessing import StandardScaler\n",
    "# Plot\n",
    "import matplotlib.pyplot as plt\n",
    "import plotly.graph_objects as go\n",
    "import plotly.express as px\n",
    "from plotly.subplots import make_subplots\n",
    "import plotly.figure_factory as ff\n",
    "import seaborn as sns"
   ]
  },
  {
   "cell_type": "code",
   "execution_count": 296,
   "metadata": {},
   "outputs": [
    {
     "data": {
      "text/html": [
       "<div>\n",
       "<style scoped>\n",
       "    .dataframe tbody tr th:only-of-type {\n",
       "        vertical-align: middle;\n",
       "    }\n",
       "\n",
       "    .dataframe tbody tr th {\n",
       "        vertical-align: top;\n",
       "    }\n",
       "\n",
       "    .dataframe thead th {\n",
       "        text-align: right;\n",
       "    }\n",
       "</style>\n",
       "<table border=\"1\" class=\"dataframe\">\n",
       "  <thead>\n",
       "    <tr style=\"text-align: right;\">\n",
       "      <th></th>\n",
       "      <th>Make</th>\n",
       "      <th>Model</th>\n",
       "      <th>Year</th>\n",
       "      <th>Engine Fuel Type</th>\n",
       "      <th>Engine HP</th>\n",
       "      <th>Engine Cylinders</th>\n",
       "      <th>Transmission Type</th>\n",
       "      <th>Driven_Wheels</th>\n",
       "      <th>Number of Doors</th>\n",
       "      <th>Market Category</th>\n",
       "      <th>Vehicle Size</th>\n",
       "      <th>Vehicle Style</th>\n",
       "      <th>highway MPG</th>\n",
       "      <th>city mpg</th>\n",
       "      <th>Popularity</th>\n",
       "      <th>MSRP</th>\n",
       "    </tr>\n",
       "  </thead>\n",
       "  <tbody>\n",
       "    <tr>\n",
       "      <th>0</th>\n",
       "      <td>BMW</td>\n",
       "      <td>1 Series M</td>\n",
       "      <td>2011</td>\n",
       "      <td>premium unleaded (required)</td>\n",
       "      <td>335.0</td>\n",
       "      <td>6.0</td>\n",
       "      <td>MANUAL</td>\n",
       "      <td>rear wheel drive</td>\n",
       "      <td>2.0</td>\n",
       "      <td>Factory Tuner,Luxury,High-Performance</td>\n",
       "      <td>Compact</td>\n",
       "      <td>Coupe</td>\n",
       "      <td>26</td>\n",
       "      <td>19</td>\n",
       "      <td>3916</td>\n",
       "      <td>46135</td>\n",
       "    </tr>\n",
       "    <tr>\n",
       "      <th>1</th>\n",
       "      <td>BMW</td>\n",
       "      <td>1 Series</td>\n",
       "      <td>2011</td>\n",
       "      <td>premium unleaded (required)</td>\n",
       "      <td>300.0</td>\n",
       "      <td>6.0</td>\n",
       "      <td>MANUAL</td>\n",
       "      <td>rear wheel drive</td>\n",
       "      <td>2.0</td>\n",
       "      <td>Luxury,Performance</td>\n",
       "      <td>Compact</td>\n",
       "      <td>Convertible</td>\n",
       "      <td>28</td>\n",
       "      <td>19</td>\n",
       "      <td>3916</td>\n",
       "      <td>40650</td>\n",
       "    </tr>\n",
       "    <tr>\n",
       "      <th>2</th>\n",
       "      <td>BMW</td>\n",
       "      <td>1 Series</td>\n",
       "      <td>2011</td>\n",
       "      <td>premium unleaded (required)</td>\n",
       "      <td>300.0</td>\n",
       "      <td>6.0</td>\n",
       "      <td>MANUAL</td>\n",
       "      <td>rear wheel drive</td>\n",
       "      <td>2.0</td>\n",
       "      <td>Luxury,High-Performance</td>\n",
       "      <td>Compact</td>\n",
       "      <td>Coupe</td>\n",
       "      <td>28</td>\n",
       "      <td>20</td>\n",
       "      <td>3916</td>\n",
       "      <td>36350</td>\n",
       "    </tr>\n",
       "    <tr>\n",
       "      <th>3</th>\n",
       "      <td>BMW</td>\n",
       "      <td>1 Series</td>\n",
       "      <td>2011</td>\n",
       "      <td>premium unleaded (required)</td>\n",
       "      <td>230.0</td>\n",
       "      <td>6.0</td>\n",
       "      <td>MANUAL</td>\n",
       "      <td>rear wheel drive</td>\n",
       "      <td>2.0</td>\n",
       "      <td>Luxury,Performance</td>\n",
       "      <td>Compact</td>\n",
       "      <td>Coupe</td>\n",
       "      <td>28</td>\n",
       "      <td>18</td>\n",
       "      <td>3916</td>\n",
       "      <td>29450</td>\n",
       "    </tr>\n",
       "    <tr>\n",
       "      <th>4</th>\n",
       "      <td>BMW</td>\n",
       "      <td>1 Series</td>\n",
       "      <td>2011</td>\n",
       "      <td>premium unleaded (required)</td>\n",
       "      <td>230.0</td>\n",
       "      <td>6.0</td>\n",
       "      <td>MANUAL</td>\n",
       "      <td>rear wheel drive</td>\n",
       "      <td>2.0</td>\n",
       "      <td>Luxury</td>\n",
       "      <td>Compact</td>\n",
       "      <td>Convertible</td>\n",
       "      <td>28</td>\n",
       "      <td>18</td>\n",
       "      <td>3916</td>\n",
       "      <td>34500</td>\n",
       "    </tr>\n",
       "  </tbody>\n",
       "</table>\n",
       "</div>"
      ],
      "text/plain": [
       "  Make       Model  Year             Engine Fuel Type  Engine HP  \\\n",
       "0  BMW  1 Series M  2011  premium unleaded (required)      335.0   \n",
       "1  BMW    1 Series  2011  premium unleaded (required)      300.0   \n",
       "2  BMW    1 Series  2011  premium unleaded (required)      300.0   \n",
       "3  BMW    1 Series  2011  premium unleaded (required)      230.0   \n",
       "4  BMW    1 Series  2011  premium unleaded (required)      230.0   \n",
       "\n",
       "   Engine Cylinders Transmission Type     Driven_Wheels  Number of Doors  \\\n",
       "0               6.0            MANUAL  rear wheel drive              2.0   \n",
       "1               6.0            MANUAL  rear wheel drive              2.0   \n",
       "2               6.0            MANUAL  rear wheel drive              2.0   \n",
       "3               6.0            MANUAL  rear wheel drive              2.0   \n",
       "4               6.0            MANUAL  rear wheel drive              2.0   \n",
       "\n",
       "                         Market Category Vehicle Size Vehicle Style  \\\n",
       "0  Factory Tuner,Luxury,High-Performance      Compact         Coupe   \n",
       "1                     Luxury,Performance      Compact   Convertible   \n",
       "2                Luxury,High-Performance      Compact         Coupe   \n",
       "3                     Luxury,Performance      Compact         Coupe   \n",
       "4                                 Luxury      Compact   Convertible   \n",
       "\n",
       "   highway MPG  city mpg  Popularity   MSRP  \n",
       "0           26        19        3916  46135  \n",
       "1           28        19        3916  40650  \n",
       "2           28        20        3916  36350  \n",
       "3           28        18        3916  29450  \n",
       "4           28        18        3916  34500  "
      ]
     },
     "execution_count": 296,
     "metadata": {},
     "output_type": "execute_result"
    }
   ],
   "source": [
    "# Loading the data\n",
    "df = pd.read_csv(\"C:/Users/eelif/Desktop/data.csv\")\n",
    "df.head(5)"
   ]
  },
  {
   "cell_type": "code",
   "execution_count": 297,
   "metadata": {},
   "outputs": [
    {
     "name": "stdout",
     "output_type": "stream",
     "text": [
      "The dataframe contains 11914 rows and 16 columns\n",
      "\n",
      "The labels are ['Make', 'Model', 'Year', 'Engine Fuel Type', 'Engine HP', 'Engine Cylinders', 'Transmission Type', 'Driven_Wheels', 'Number of Doors', 'Market Category', 'Vehicle Size', 'Vehicle Style', 'highway MPG', 'city mpg', 'Popularity', 'MSRP'] \n",
      "\n",
      "<class 'pandas.core.frame.DataFrame'>\n",
      "RangeIndex: 11914 entries, 0 to 11913\n",
      "Data columns (total 16 columns):\n",
      " #   Column             Non-Null Count  Dtype  \n",
      "---  ------             --------------  -----  \n",
      " 0   Make               11914 non-null  object \n",
      " 1   Model              11914 non-null  object \n",
      " 2   Year               11914 non-null  int64  \n",
      " 3   Engine Fuel Type   11911 non-null  object \n",
      " 4   Engine HP          11845 non-null  float64\n",
      " 5   Engine Cylinders   11884 non-null  float64\n",
      " 6   Transmission Type  11914 non-null  object \n",
      " 7   Driven_Wheels      11914 non-null  object \n",
      " 8   Number of Doors    11908 non-null  float64\n",
      " 9   Market Category    8172 non-null   object \n",
      " 10  Vehicle Size       11914 non-null  object \n",
      " 11  Vehicle Style      11914 non-null  object \n",
      " 12  highway MPG        11914 non-null  int64  \n",
      " 13  city mpg           11914 non-null  int64  \n",
      " 14  Popularity         11914 non-null  int64  \n",
      " 15  MSRP               11914 non-null  int64  \n",
      "dtypes: float64(3), int64(5), object(8)\n",
      "memory usage: 1.5+ MB\n"
     ]
    }
   ],
   "source": [
    "print(\"The dataframe contains\",df.shape[0],\"rows and\",df.shape[1],\"columns\\n\")\n",
    "print(\"The labels are\",[df.columns[i] for i in range(df.shape[1])], \"\\n\")\n",
    "\n",
    "df.info()"
   ]
  },
  {
   "cell_type": "code",
   "execution_count": 298,
   "metadata": {},
   "outputs": [
    {
     "data": {
      "text/html": [
       "<div>\n",
       "<style scoped>\n",
       "    .dataframe tbody tr th:only-of-type {\n",
       "        vertical-align: middle;\n",
       "    }\n",
       "\n",
       "    .dataframe tbody tr th {\n",
       "        vertical-align: top;\n",
       "    }\n",
       "\n",
       "    .dataframe thead th {\n",
       "        text-align: right;\n",
       "    }\n",
       "</style>\n",
       "<table border=\"1\" class=\"dataframe\">\n",
       "  <thead>\n",
       "    <tr style=\"text-align: right;\">\n",
       "      <th></th>\n",
       "      <th>Year</th>\n",
       "      <th>Engine HP</th>\n",
       "      <th>Engine Cylinders</th>\n",
       "      <th>Number of Doors</th>\n",
       "      <th>highway MPG</th>\n",
       "      <th>city mpg</th>\n",
       "      <th>Popularity</th>\n",
       "      <th>MSRP</th>\n",
       "    </tr>\n",
       "  </thead>\n",
       "  <tbody>\n",
       "    <tr>\n",
       "      <th>count</th>\n",
       "      <td>11914.000000</td>\n",
       "      <td>11845.00000</td>\n",
       "      <td>11884.000000</td>\n",
       "      <td>11908.000000</td>\n",
       "      <td>11914.000000</td>\n",
       "      <td>11914.000000</td>\n",
       "      <td>11914.000000</td>\n",
       "      <td>1.191400e+04</td>\n",
       "    </tr>\n",
       "    <tr>\n",
       "      <th>mean</th>\n",
       "      <td>2010.384338</td>\n",
       "      <td>249.38607</td>\n",
       "      <td>5.628829</td>\n",
       "      <td>3.436093</td>\n",
       "      <td>26.637485</td>\n",
       "      <td>19.733255</td>\n",
       "      <td>1554.911197</td>\n",
       "      <td>4.059474e+04</td>\n",
       "    </tr>\n",
       "    <tr>\n",
       "      <th>std</th>\n",
       "      <td>7.579740</td>\n",
       "      <td>109.19187</td>\n",
       "      <td>1.780559</td>\n",
       "      <td>0.881315</td>\n",
       "      <td>8.863001</td>\n",
       "      <td>8.987798</td>\n",
       "      <td>1441.855347</td>\n",
       "      <td>6.010910e+04</td>\n",
       "    </tr>\n",
       "    <tr>\n",
       "      <th>min</th>\n",
       "      <td>1990.000000</td>\n",
       "      <td>55.00000</td>\n",
       "      <td>0.000000</td>\n",
       "      <td>2.000000</td>\n",
       "      <td>12.000000</td>\n",
       "      <td>7.000000</td>\n",
       "      <td>2.000000</td>\n",
       "      <td>2.000000e+03</td>\n",
       "    </tr>\n",
       "    <tr>\n",
       "      <th>25%</th>\n",
       "      <td>2007.000000</td>\n",
       "      <td>170.00000</td>\n",
       "      <td>4.000000</td>\n",
       "      <td>2.000000</td>\n",
       "      <td>22.000000</td>\n",
       "      <td>16.000000</td>\n",
       "      <td>549.000000</td>\n",
       "      <td>2.100000e+04</td>\n",
       "    </tr>\n",
       "    <tr>\n",
       "      <th>50%</th>\n",
       "      <td>2015.000000</td>\n",
       "      <td>227.00000</td>\n",
       "      <td>6.000000</td>\n",
       "      <td>4.000000</td>\n",
       "      <td>26.000000</td>\n",
       "      <td>18.000000</td>\n",
       "      <td>1385.000000</td>\n",
       "      <td>2.999500e+04</td>\n",
       "    </tr>\n",
       "    <tr>\n",
       "      <th>75%</th>\n",
       "      <td>2016.000000</td>\n",
       "      <td>300.00000</td>\n",
       "      <td>6.000000</td>\n",
       "      <td>4.000000</td>\n",
       "      <td>30.000000</td>\n",
       "      <td>22.000000</td>\n",
       "      <td>2009.000000</td>\n",
       "      <td>4.223125e+04</td>\n",
       "    </tr>\n",
       "    <tr>\n",
       "      <th>max</th>\n",
       "      <td>2017.000000</td>\n",
       "      <td>1001.00000</td>\n",
       "      <td>16.000000</td>\n",
       "      <td>4.000000</td>\n",
       "      <td>354.000000</td>\n",
       "      <td>137.000000</td>\n",
       "      <td>5657.000000</td>\n",
       "      <td>2.065902e+06</td>\n",
       "    </tr>\n",
       "  </tbody>\n",
       "</table>\n",
       "</div>"
      ],
      "text/plain": [
       "               Year    Engine HP  Engine Cylinders  Number of Doors  \\\n",
       "count  11914.000000  11845.00000      11884.000000     11908.000000   \n",
       "mean    2010.384338    249.38607          5.628829         3.436093   \n",
       "std        7.579740    109.19187          1.780559         0.881315   \n",
       "min     1990.000000     55.00000          0.000000         2.000000   \n",
       "25%     2007.000000    170.00000          4.000000         2.000000   \n",
       "50%     2015.000000    227.00000          6.000000         4.000000   \n",
       "75%     2016.000000    300.00000          6.000000         4.000000   \n",
       "max     2017.000000   1001.00000         16.000000         4.000000   \n",
       "\n",
       "        highway MPG      city mpg    Popularity          MSRP  \n",
       "count  11914.000000  11914.000000  11914.000000  1.191400e+04  \n",
       "mean      26.637485     19.733255   1554.911197  4.059474e+04  \n",
       "std        8.863001      8.987798   1441.855347  6.010910e+04  \n",
       "min       12.000000      7.000000      2.000000  2.000000e+03  \n",
       "25%       22.000000     16.000000    549.000000  2.100000e+04  \n",
       "50%       26.000000     18.000000   1385.000000  2.999500e+04  \n",
       "75%       30.000000     22.000000   2009.000000  4.223125e+04  \n",
       "max      354.000000    137.000000   5657.000000  2.065902e+06  "
      ]
     },
     "execution_count": 298,
     "metadata": {},
     "output_type": "execute_result"
    }
   ],
   "source": [
    "df.describe()"
   ]
  },
  {
   "cell_type": "code",
   "execution_count": 299,
   "metadata": {},
   "outputs": [],
   "source": [
    "df.drop(df[df['MSRP'] == 0].index,inplace=True)\n",
    "# Dropping rows which have zero as a value for MSRP column as it is our dependent/target variable."
   ]
  },
  {
   "cell_type": "code",
   "execution_count": 300,
   "metadata": {},
   "outputs": [
    {
     "data": {
      "text/plain": [
       "715"
      ]
     },
     "execution_count": 300,
     "metadata": {},
     "output_type": "execute_result"
    }
   ],
   "source": [
    "df.duplicated().sum()\n",
    "#checking for any duplicates in the data"
   ]
  },
  {
   "cell_type": "code",
   "execution_count": 301,
   "metadata": {},
   "outputs": [],
   "source": [
    "df.drop_duplicates(keep=False,inplace=True)\n",
    "#removing the duplicates in the data"
   ]
  },
  {
   "cell_type": "code",
   "execution_count": 302,
   "metadata": {},
   "outputs": [
    {
     "data": {
      "text/plain": [
       "Make                    0\n",
       "Model                   0\n",
       "Year                    0\n",
       "Engine Fuel Type        3\n",
       "Engine HP              69\n",
       "Engine Cylinders       30\n",
       "Transmission Type       0\n",
       "Driven_Wheels           0\n",
       "Number of Doors         6\n",
       "Market Category      3092\n",
       "Vehicle Size            0\n",
       "Vehicle Style           0\n",
       "highway MPG             0\n",
       "city mpg                0\n",
       "Popularity              0\n",
       "MSRP                    0\n",
       "dtype: int64"
      ]
     },
     "execution_count": 302,
     "metadata": {},
     "output_type": "execute_result"
    }
   ],
   "source": [
    "# checking null values\n",
    "df.isnull().sum()"
   ]
  },
  {
   "cell_type": "markdown",
   "metadata": {},
   "source": [
    "We observe, Market Category has the highest missing values followed by Engine HP and Enginer Cylinders.    \n",
    "We see it is really not that useful for our model, especially when our data already consists of additional details like 'Model' , 'Vechicle Style' , 'Vechicle Size or Make'    \n",
    "Anyone can guess which type of car it is from these features. We will drop the entire column 'Market Category'.     "
   ]
  },
  {
   "cell_type": "code",
   "execution_count": 303,
   "metadata": {},
   "outputs": [],
   "source": [
    "df = df.drop('Market Category', axis = 1)\n",
    "# dropping 'market category' column as MSRP is independent of it and hence not useful in predicting price of car. "
   ]
  },
  {
   "cell_type": "markdown",
   "metadata": {},
   "source": [
    "There are still other missing values: 'Engine Hp', 'Engine Cylinders', 'Number of Doors' and 'Engine Fuel Type'."
   ]
  },
  {
   "cell_type": "code",
   "execution_count": 304,
   "metadata": {},
   "outputs": [],
   "source": [
    "df['Engine HP'] = df['Engine HP'].fillna(0)\n",
    "df['Engine Cylinders'] = df['Engine Cylinders'].fillna(0)\n",
    "# Replaced them with zero because electric vehicles don't have engine.\n",
    "df['Number of Doors'] = df['Number of Doors'].fillna(df['Number of Doors'].mode()[0])\n",
    "df['Engine Fuel Type'] = df['Engine Fuel Type'].fillna('regular unleaded')"
   ]
  },
  {
   "cell_type": "code",
   "execution_count": 305,
   "metadata": {},
   "outputs": [
    {
     "data": {
      "text/plain": [
       "Make                 0\n",
       "Model                0\n",
       "Year                 0\n",
       "Engine Fuel Type     0\n",
       "Engine HP            0\n",
       "Engine Cylinders     0\n",
       "Transmission Type    0\n",
       "Driven_Wheels        0\n",
       "Number of Doors      0\n",
       "Vehicle Size         0\n",
       "Vehicle Style        0\n",
       "highway MPG          0\n",
       "city mpg             0\n",
       "Popularity           0\n",
       "MSRP                 0\n",
       "dtype: int64"
      ]
     },
     "execution_count": 305,
     "metadata": {},
     "output_type": "execute_result"
    }
   ],
   "source": [
    "df.isnull().sum() \n",
    "# No more missing values."
   ]
  },
  {
   "cell_type": "code",
   "execution_count": 306,
   "metadata": {},
   "outputs": [
    {
     "name": "stdout",
     "output_type": "stream",
     "text": [
      "['BMW' 'Audi' 'FIAT' 'Mercedes-Benz' 'Chrysler' 'Nissan' 'Volvo' 'Mazda'\n",
      " 'Mitsubishi' 'Ferrari' 'Alfa Romeo' 'Toyota' 'McLaren' 'Maybach'\n",
      " 'Pontiac' 'Porsche' 'Saab' 'GMC' 'Hyundai' 'Plymouth' 'Honda'\n",
      " 'Oldsmobile' 'Suzuki' 'Ford' 'Cadillac' 'Kia' 'Bentley' 'Chevrolet'\n",
      " 'Dodge' 'Lamborghini' 'Lincoln' 'Subaru' 'Volkswagen' 'Spyker' 'Buick'\n",
      " 'Acura' 'Rolls-Royce' 'Maserati' 'Lexus' 'Aston Martin' 'Land Rover'\n",
      " 'Lotus' 'Infiniti' 'Scion' 'Genesis' 'HUMMER' 'Tesla' 'Bugatti']\n",
      "\n",
      "['1 Series M' '1 Series' '100' '124 Spider' '190-Class' '2 Series' '200'\n",
      " '200SX' '240SX' '240' '2' '3 Series Gran Turismo' '3 Series' '300-Class'\n",
      " '3000GT' '300' '300M' '300ZX' '323' '350-Class' '350Z' '360' '370Z' '3'\n",
      " '4 Series Gran Coupe' '4 Series' '400-Class' '420-Class' '456M'\n",
      " '458 Italia' '4C' '4Runner' '5 Series Gran Turismo' '5 Series'\n",
      " '500-Class' '500e' '500' '500L' '500X' '550' '560-Class' '570S' '575M'\n",
      " '57' '599' '5' '6 Series Gran Coupe' '6 Series' '600-Class' '6000'\n",
      " '612 Scaglietti' '626' '62' '650S Coupe' '650S Spider' '6' '7 Series'\n",
      " '718 Cayman' '740' '760' '780' '8 Series' '80' '850' '86' '9-2X'\n",
      " '9-3 Griffin' '9-3' '9-4X' '9-5' '9-7X' '9000' '900' '90' '911' '928'\n",
      " '929' '940' '944' '960' '968' 'A3' 'A4 allroad' 'A4' 'A5' 'A6' 'A7' 'A8'\n",
      " 'Acadia Limited' 'Acadia' 'Accent' 'Acclaim' 'Accord Crosstour'\n",
      " 'Accord Hybrid' 'Accord Plug-In Hybrid' 'Accord' 'Achieva'\n",
      " 'ActiveHybrid 5' 'ActiveHybrid 7' 'ActiveHybrid X6' 'Aerio' 'Aerostar'\n",
      " 'Alero' 'Allante' 'allroad quattro' 'allroad' 'ALPINA B6 Gran Coupe'\n",
      " 'ALPINA B7' 'Alpina' 'Altima Hybrid' 'Altima' 'Amanti' 'AMG GT' 'Armada'\n",
      " 'Arnage' 'Aspen' 'Aspire' 'Astro Cargo' 'Astro' 'ATS Coupe' 'ATS-V' 'ATS'\n",
      " 'Aurora' 'Avalanche' 'Avalon Hybrid' 'Avalon' 'Avenger' 'Aventador'\n",
      " 'Aveo' 'Aviator' 'Axxess' 'Azera' 'Aztek' 'Azure T' 'Azure'\n",
      " 'B-Class Electric Drive' 'B-Series Pickup' 'B-Series Truck' 'B-Series'\n",
      " 'B9 Tribeca' 'Baja' 'Beetle Convertible' 'Beetle' 'Beretta'\n",
      " 'Black Diamond Avalanche' 'Blackwood' 'Blazer' 'Bolt EV' 'Bonneville'\n",
      " 'Borrego' 'Boxster' 'Bravada' 'Breeze' 'Bronco' 'Brooklands' 'Brougham'\n",
      " 'BRZ' 'C-Class' 'C-Max Hybrid' 'C30' 'C36 AMG' 'C43 AMG' 'C70' 'C8'\n",
      " 'Cabriolet' 'Cabrio' 'Cadenza' 'Caliber' 'California T' 'California'\n",
      " 'Camaro' 'Camry Hybrid' 'Camry Solara' 'Camry' 'Canyon' 'Caprice'\n",
      " 'Captiva Sport' 'Caravan' 'Carrera GT' 'Cascada' 'Catera' 'Cavalier'\n",
      " 'Cayenne' 'Cayman S' 'Cayman' 'CC' 'Celebrity' 'Celica' 'Century'\n",
      " 'Challenger' 'Charger' 'Chevy Van' 'Ciera' 'Cirrus' 'City Express'\n",
      " 'Civic CRX' 'Civic del Sol' 'Civic' 'C/K 1500 Series' 'C/K 2500 Series'\n",
      " 'CL-Class' 'CLA-Class' 'CL' 'Classic' 'CLK-Class' 'CLS-Class' 'Cobalt'\n",
      " 'Colorado' 'Colt' 'Concorde' 'Continental Flying Spur Speed'\n",
      " 'Continental Flying Spur' 'Continental GT Speed Convertible'\n",
      " 'Continental GT Speed' 'Continental GT3-R' 'Continental GT'\n",
      " 'Continental GTC Speed' 'Continental GTC'\n",
      " 'Continental Supersports Convertible' 'Continental Supersports'\n",
      " 'Continental' 'Contour SVT' 'Contour' 'Corniche' 'Corolla iM' 'Corolla'\n",
      " 'Corrado' 'Corsica' 'Corvette Stingray' 'Corvette' 'Coupe' 'CR-V' 'CR-Z'\n",
      " 'Cressida' 'Crossfire' 'Crosstour' 'Crosstrek' 'Crown Victoria'\n",
      " 'Cruze Limited' 'Cruze' 'CT 200h' 'CT6' 'CTS Coupe' 'CTS-V Coupe'\n",
      " 'CTS-V Wagon' 'CTS-V' 'CTS Wagon' 'CTS' 'Cube' 'Custom Cruiser'\n",
      " 'Cutlass Calais' 'Cutlass Ciera' 'Cutlass Supreme' 'Cutlass' 'CX-3'\n",
      " 'CX-5' 'CX-7' 'CX-9' 'Dakota' 'Dart' 'Dawn' 'Daytona' 'DB7' 'DB9 GT'\n",
      " 'DB9' 'DBS' 'Defender' 'DeVille' 'Diablo' 'Diamante'\n",
      " 'Discovery Series II' 'Discovery Sport' 'Discovery' 'DTS' 'Durango'\n",
      " 'Dynasty' 'E-150' 'E-250' 'E-Class' 'e-Golf' 'E-Series Van'\n",
      " 'E-Series Wagon' 'E55 AMG' 'ECHO' 'Eclipse Spyder' 'Eclipse' 'Edge'\n",
      " 'Eighty-Eight Royale' 'Eighty-Eight' 'Elantra Coupe' 'Elantra GT'\n",
      " 'Elantra Touring' 'Elantra' 'Eldorado' 'Element' 'Elise' 'Enclave'\n",
      " 'Encore' 'Endeavor' 'Entourage' 'Envision' 'Envoy XL' 'Envoy XUV' 'Envoy'\n",
      " 'Enzo' 'Eos' 'Equator' 'Equinox' 'Equus' 'ES 250' 'ES 300h' 'ES 300'\n",
      " 'ES 330' 'ES 350' 'Escalade ESV' 'Escalade EXT' 'Escalade Hybrid'\n",
      " 'Escalade' 'Escape Hybrid' 'Escape' 'Escort' 'Esprit' 'Estate Wagon'\n",
      " 'Esteem' 'EuroVan' 'Evora' 'EX35' 'Excel' 'Exige' 'EX' 'Expedition'\n",
      " 'Explorer Sport Trac' 'Explorer Sport' 'Explorer' 'Expo' 'Express Cargo'\n",
      " 'Express' 'F-150 Heritage' 'F-150 SVT Lightning' 'F-150' 'F-250'\n",
      " 'F12 Berlinetta' 'F430' 'FF' 'Fiesta' 'Firebird' 'Fit EV' 'Fit'\n",
      " 'Five Hundred' 'FJ Cruiser' 'Fleetwood' 'Flex' 'Flying Spur' 'Focus RS'\n",
      " 'Focus ST' 'Focus' 'Forenza' 'Forester' 'Forte' 'Fox' 'FR-S' 'Freelander'\n",
      " 'Freestar' 'Freestyle' 'Frontier' 'Fusion Hybrid' 'Fusion' 'FX35' 'FX45'\n",
      " 'FX50' 'FX' 'G-Class' 'G Convertible' 'G Coupe' 'G Sedan' 'G20' 'G35'\n",
      " 'G37 Convertible' 'G37 Coupe' 'G37 Sedan' 'G37' 'G3' 'G5' 'G6' 'G80' 'G8'\n",
      " 'Galant' 'Gallardo' 'Genesis Coupe' 'Genesis' 'Ghibli' 'Ghost Series II'\n",
      " 'Ghost' 'GL-Class' 'GLA-Class' 'GLC-Class' 'GLE-Class Coupe' 'GLE-Class'\n",
      " 'GLK-Class' 'GLS-Class' 'Golf Alltrack' 'Golf GTI' 'Golf R'\n",
      " 'Golf SportWagen' 'Golf' 'Grand Am' 'Grand Caravan' 'Grand Prix'\n",
      " 'Grand Vitara' 'Grand Voyager' 'GranSport' 'GranTurismo Convertible'\n",
      " 'GranTurismo' 'GS 200t' 'GS 300' 'GS 350' 'GS 400' 'GS 430' 'GS 450h'\n",
      " 'GS 460' 'GS F' 'GT-R' 'GT' 'GTI' 'GTO' 'GX 460' 'GX 470' 'H3' 'H3T'\n",
      " 'HHR' 'Highlander Hybrid' 'Highlander' 'Horizon' 'HR-V' 'HS 250h'\n",
      " 'Huracan' 'i-MiEV' 'I30' 'I35' 'i3' 'iA' 'ILX Hybrid' 'ILX'\n",
      " 'Impala Limited' 'Impala' 'Imperial' 'Impreza WRX' 'Impreza' 'iM'\n",
      " 'Insight' 'Integra' 'Intrepid' 'Intrigue' 'iQ' 'IS 200t' 'IS 250 C'\n",
      " 'IS 250' 'IS 300' 'IS 350 C' 'IS 350' 'IS F' 'J30' 'Jetta Hybrid'\n",
      " 'Jetta SportWagen' 'Jetta' 'Jimmy' 'Journey' 'Juke' 'Justy' 'JX' 'K900'\n",
      " 'Kizashi' 'LaCrosse' 'Lancer Evolution' 'Lancer Sportback' 'Lancer'\n",
      " 'Land Cruiser' 'Landaulet' 'Laser' 'Le Baron' 'Le Mans' 'Leaf' 'Legacy'\n",
      " 'Legend' 'LeSabre' 'Levante' 'LFA' 'LHS' 'Loyale' 'LR2' 'LR3' 'LR4'\n",
      " 'LS 400' 'LS 430' 'LS 460' 'LS 600h L' 'LS' 'LSS' 'Lucerne'\n",
      " 'Lumina Minivan' 'Lumina' 'LX 450' 'LX 470' 'LX 570' 'M-Class' 'M2' 'M30'\n",
      " 'M35' 'M37' 'M3' 'M4 GTS' 'M45' 'M4' 'M56' 'M5' 'M6 Gran Coupe' 'M6'\n",
      " 'Macan' 'Magnum' 'Malibu Classic' 'Malibu Hybrid' 'Malibu Limited'\n",
      " 'Malibu Maxx' 'Malibu' 'Mark LT' 'Mark VIII' 'Matrix' 'Maxima' 'Maybach'\n",
      " 'Mazdaspeed 3' 'Mazdaspeed 6' 'Mazdaspeed MX-5 Miata'\n",
      " 'Mazdaspeed Protege' 'M' 'MDX' 'Metris' 'Metro' 'Mighty Max Pickup'\n",
      " 'Millenia' 'Mirage G4' 'Mirage' 'MKC' 'MKS' 'MKT' 'MKX' 'MKZ Hybrid'\n",
      " 'MKZ' 'ML55 AMG' 'Model S' 'Montana SV6' 'Montana' 'Monte Carlo'\n",
      " 'Montero Sport' 'Montero' 'MP4-12C' 'MPV' 'MR2 Spyder' 'MR2' 'Mulsanne'\n",
      " 'Murano CrossCabriolet' 'Murano' 'Murcielago' 'Mustang SVT Cobra'\n",
      " 'Mustang' 'MX-3' 'MX-5 Miata' 'MX-6' 'Navigator' 'Neon' 'New Yorker'\n",
      " 'Ninety-Eight' 'Nitro' 'NSX' 'NV200' 'NX 200t' 'NX 300h' 'NX' 'Odyssey'\n",
      " 'Omni' 'Optima Hybrid' 'Optima' 'Outback' 'Outlander Sport' 'Outlander'\n",
      " 'Pacifica' 'Panamera' 'Park Avenue' 'Park Ward' 'Paseo' 'Passat'\n",
      " 'Passport' 'Pathfinder' 'Phaeton' 'Phantom Coupe'\n",
      " 'Phantom Drophead Coupe' 'Phantom' 'Pickup' 'Pilot' 'Precis' 'Prelude'\n",
      " 'Previa' 'Prius c' 'Prius Prime' 'Prius v' 'Prius' 'Prizm' 'Probe'\n",
      " 'Protege5' 'Protege' 'Prowler' 'PT Cruiser' 'Pulsar' 'Q3' 'Q40' 'Q45'\n",
      " 'Q50' 'Q5' 'Q60 Convertible' 'Q60 Coupe' 'Q70' 'Q7' 'Quattroporte'\n",
      " 'Quest' 'QX4' 'QX50' 'QX56' 'QX60' 'QX70' 'QX80' 'QX' 'R-Class' 'R32'\n",
      " 'R8' 'Raider' 'Rainier' 'Rally Wagon' 'RAM 150' 'RAM 250' 'Ram 50 Pickup'\n",
      " 'Ram Cargo' 'Ram Pickup 1500' 'Ram Van' 'Ram Wagon' 'Range Rover Evoque'\n",
      " 'Range Rover Sport' 'Range Rover' 'Ranger' 'Rapide S' 'Rapide' 'RAV4 EV'\n",
      " 'RAV4 Hybrid' 'RAV4' 'RC 200t' 'RC 300' 'RC 350' 'RC F' 'RDX' 'Reatta'\n",
      " 'Regal' 'Regency' 'Rendezvous' 'Reno' 'Reventon' 'Ridgeline' 'Rio'\n",
      " 'Riviera' 'RL' 'RLX' 'Roadmaster' 'Rogue Select' 'Rogue' 'Rondo' 'Routan'\n",
      " 'RS 4' 'RS 5' 'RS 6' 'RS 7' 'RSX' 'RX 300' 'RX 330' 'RX 350' 'RX 400h'\n",
      " 'RX 450h' 'RX-7' 'RX-8' 'S-10 Blazer' 'S-10' 'S-Class' 'S2000' 'S3' 'S40'\n",
      " 'S4' 'S5' 'S60 Cross Country' 'S60' 'S6' 'S70' 'S7' 'S80' 'S8' 'S90'\n",
      " 'Safari Cargo' 'Safari' 'Samurai' 'Santa Fe Sport' 'Santa Fe'\n",
      " 'Savana Cargo' 'Savana' 'SC 300' 'SC 400' 'SC 430' 'Scoupe' 'Sebring'\n",
      " 'Sedona' 'Sentra' 'Sephia' 'Sequoia' 'Seville' 'Shadow' 'Shelby GT350'\n",
      " 'Shelby GT500' 'Sidekick' 'Sienna' 'Sierra 1500 Classic'\n",
      " 'Sierra 1500 Hybrid' 'Sierra 1500' 'Sierra 1500HD' 'Sierra C3'\n",
      " 'Sierra Classic 1500' 'Sigma' 'Silhouette' 'Silver Seraph'\n",
      " 'Silverado 1500 Classic' 'Silverado 1500 Hybrid' 'Silverado 1500'\n",
      " 'Sixty Special' 'Skylark' 'SL-Class' 'SLC-Class' 'SLK-Class'\n",
      " 'SLR McLaren' 'SLS AMG GT Final Edition' 'SLS AMG GT' 'SLS AMG' 'SLX'\n",
      " 'Solstice' 'Sonata Hybrid' 'Sonata' 'Sonic' 'Sonoma' 'Sorento' 'Soul EV'\n",
      " 'Soul' 'Spark EV' 'Spark' 'Spectra' 'Spirit' 'Sportage' 'Spyder' 'SQ5'\n",
      " 'SRT Viper' 'SRX' 'SS' 'SSR' 'Stanza' 'Stealth' 'Stratus' 'STS-V' 'STS'\n",
      " 'Suburban' 'Sunbird' 'Sundance' 'Sunfire' 'Superamerica'\n",
      " 'Supersports Convertible ISR' 'Supra' 'SVX' 'Swift' 'SX4' 'Syclone'\n",
      " 'T100' 'Tacoma' 'Tahoe Hybrid' 'Tahoe Limited/Z71' 'Tahoe' 'Taurus X'\n",
      " 'Taurus' 'TC' 'tC' 'Tempo' 'Tercel' 'Terrain' 'Terraza' 'Thunderbird'\n",
      " 'Tiburon' 'Tiguan' 'Titan' 'TL' 'TLX' 'Torrent' 'Touareg 2' 'Touareg'\n",
      " 'Town and Country' 'Town Car' 'Tracker' 'TrailBlazer EXT' 'TrailBlazer'\n",
      " 'Trans Sport' 'Transit Connect' 'Transit Wagon' 'Traverse' 'Trax'\n",
      " 'Tribeca' 'Tribute Hybrid' 'Tribute' 'Truck' 'TSX Sport Wagon' 'TSX'\n",
      " 'TT RS' 'TT' 'TTS' 'Tucson' 'Tundra' 'Typhoon' 'Uplander' 'V12 Vanquish'\n",
      " 'V12 Vantage S' 'V12 Vantage' 'V40' 'V50' 'V60 Cross Country' 'V60' 'V70'\n",
      " 'V8 Vantage' 'V8' 'V90' 'Vanagon' 'Vandura' 'Van' 'Vanquish' 'Vanwagon'\n",
      " 'Veloster' 'Venture' 'Venza' 'Veracruz' 'Verano' 'Verona' 'Versa Note'\n",
      " 'Versa' 'Veyron 16.4' 'Vibe' 'Viper' 'Virage' 'Vitara' 'Voyager'\n",
      " 'Windstar Cargo' 'Windstar' 'Wraith' 'WRX' 'X-90' 'X1' 'X3' 'X4' 'X5 M'\n",
      " 'X5' 'X6 M' 'X6' 'xA' 'xB' 'XC60' 'XC70' 'XC90' 'XC' 'xD' 'XG300' 'XG350'\n",
      " 'XL-7' 'XL7' 'XLR-V' 'XLR' 'XT5' 'Xterra' 'XTS' 'XT' 'XV Crosstrek'\n",
      " 'Yaris iA' 'Yaris' 'Yukon Denali' 'Yukon Hybrid' 'Yukon XL' 'Yukon' 'Z3'\n",
      " 'Z4 M' 'Z4' 'Z8' 'ZDX' 'Zephyr']\n",
      "\n",
      "['premium unleaded (required)' 'regular unleaded'\n",
      " 'premium unleaded (recommended)' 'flex-fuel (unleaded/E85)' 'diesel'\n",
      " 'electric' 'flex-fuel (premium unleaded recommended/E85)' 'natural gas'\n",
      " 'flex-fuel (premium unleaded required/E85)'\n",
      " 'flex-fuel (unleaded/natural gas)']\n",
      "\n",
      "['MANUAL' 'AUTOMATIC' 'AUTOMATED_MANUAL' 'DIRECT_DRIVE' 'UNKNOWN']\n",
      "\n",
      "['rear wheel drive' 'all wheel drive' 'front wheel drive'\n",
      " 'four wheel drive']\n",
      "\n",
      "['Compact' 'Midsize' 'Large']\n",
      "\n",
      "['Coupe' 'Convertible' 'Wagon' 'Sedan' '4dr Hatchback' '2dr Hatchback'\n",
      " '4dr SUV' 'Passenger Minivan' 'Cargo Minivan' 'Crew Cab Pickup'\n",
      " 'Regular Cab Pickup' 'Extended Cab Pickup' '2dr SUV' 'Cargo Van'\n",
      " 'Convertible SUV' 'Passenger Van']\n"
     ]
    }
   ],
   "source": [
    "print(df['Make'].unique()) \n",
    "print()\n",
    "print(df['Model'].unique())\n",
    "print()\n",
    "print(df['Engine Fuel Type'].unique()) \n",
    "print()\n",
    "print(df['Transmission Type'].unique())\n",
    "print()\n",
    "print(df['Driven_Wheels'].unique())\n",
    "print()\n",
    "print(df['Vehicle Size'].unique())\n",
    "print()\n",
    "print(df['Vehicle Style'].unique())"
   ]
  },
  {
   "cell_type": "markdown",
   "metadata": {},
   "source": [
    "Machines understand numbers, not text. We need to convert each text category to numbers in order for the machine to process them using mathematical equations. For this reason we can use label encoding or one hot encoding.    \n",
    "I'm going to use Label encoding for 'Make', 'Model' 'Engine Fuel Type', 'Transmission Type', 'Driven_Wheels', and 'Vehicle Style' columns because there are many unique values and one-hot encoding can lead to high memory consumption; and One-Hot encoding for 'Vehicle Style'.    "
   ]
  },
  {
   "cell_type": "code",
   "execution_count": 307,
   "metadata": {},
   "outputs": [
    {
     "name": "stdout",
     "output_type": "stream",
     "text": [
      "[ 4  3 12 31 10 33 47 29 32 13  1 45 30 28 36 37 39 15 19 35 18 34 43 14\n",
      "  8 21  5  9 11 22 25 42 46 41  7  0 38 27 24  2 23 26 20 40 16 17 44  6]\n",
      "[  1   0   2   3   4   6   7   8  10   9   5  13  12  15  16  14  17  18\n",
      "  19  20  21  22  23  11  25  24  26  27  28  29  30  31  34  33  36  39\n",
      "  35  37  38  40  41  43  44  42  45  32  48  47  49  50  51  53  52  54\n",
      "  55  46  56  57  58  59  60  61  62  63  64  65  67  66  68  69  70  73\n",
      "  72  71  74  75  76  77  78  79  80  81  83  82  84  85  86  87  95  94\n",
      "  96  97  99 100 101  98 102 103 104 105 106 107 108 109 886 885  88  89\n",
      " 110 112 111 113  90 114 115 116 117 119 118  92  93  91 120 121 123 122\n",
      " 124 125 126 127 128 129 130 132 131 133 135 136 134 137 139 141 140 142\n",
      " 143 144 145 146 147 148 149 150 151 152 153 154 138 155 156 159 160 161\n",
      " 162 163 185 184 186 187 189 188 190 192 193 191 194 195 196 197 198 199\n",
      " 200 201 202 204 203 164 205 206 207 208 209 210 211 212 213 215 216 214\n",
      " 157 158 166 167 165 217 168 169 218 219 220 221 224 223 227 226 228 225\n",
      " 230 229 232 231 222 234 233 235 237 236 238 239 241 240 242 170 171 243\n",
      " 244 245 246 247 249 248 172 173 175 178 179 177 176 174 250 251 253 254\n",
      " 255 252 180 181 182 183 261 262 263 264 256 258 257 259 266 265 267 268\n",
      " 270 271 269 260 272 273 274 275 276 887 277 278 279 280 289 288 290 292\n",
      " 291 294 295 296 293 297 298 299 300 301 302 303 304 306 307 305 308 309\n",
      " 310 311 312 281 283 282 284 285 314 315 316 313 318 317 319 320 321 322\n",
      " 323 324 287 325 326 286 327 330 329 328 331 333 332 335 336 334 337 338\n",
      " 339 340 347 348 350 349 351 341 352 353 354 356 357 355 358 359 360 361\n",
      " 342 362 363 364 365 367 366 344 345 346 343 371 368 369 370 372 374 376\n",
      " 377 378 375 373 379 380 382 381 404 405 407 406 408 410 409 383 384 385\n",
      " 387 386 388 389 412 413 414 415 411 419 420 421 422 423 416 418 417 390\n",
      " 391 392 393 394 395 396 397 399 398 400 401 402 403 424 425 426 430 429\n",
      " 431 427 428 432 888 433 434 889 890 436 435 445 444 446 448 447 891 449\n",
      " 450 451 452 892 437 439 438 440 442 441 443 453 456 457 455 458 459 460\n",
      " 461 454 462 463 478 480 481 479 482 483 484 485 486 488 489 490 487 491\n",
      " 464 465 492 466 467 468 470 471 472 473 469 474 493 495 494 475 476 477\n",
      " 497 498 500 501 502 499 504 505 503 507 506 509 508 525 526 528 529 530\n",
      " 531 527 532 533 534 535 536 537 538 539 540 496 510 541 542 543 544 546\n",
      " 545 511 512 513 514 516 515 517 547 549 548 550 552 551 518 519 521 520\n",
      " 553 555 554 556 558 557 522 523 524 564 565 566 567 568 559 560 562 563\n",
      " 561 569 570 572 571 573 575 574 577 578 579 580 581 582 583 584 585 587\n",
      " 588 586 589 590 591 592 593 596 595 597 594 598 599 601 600 602 576 603\n",
      " 604 605 606 608 607 609 610 612 611 620 621 614 615 616 617 618 619 613\n",
      " 622 623 624 649 650 651 625 626 652 653 654 655 656 658 659 657 660 662\n",
      " 661 628 629 627 630 631 632 633 634 663 664 665 666 667 668 669 670 671\n",
      " 635 636 672 674 673 675 676 637 638 639 640 641 642 643 644 645 646 647\n",
      " 648 678 677 679 680 681 683 682 684 687 686 685 689 688 691 690 692 714\n",
      " 713 715 717 716 719 718 693 694 695 720 721 722 723 724 725 726 727 728\n",
      " 729 730 731 733 734 732 735 736 737 738 739 740 742 743 741 744 745 696\n",
      " 697 698 699 702 701 700 703 746 748 747 749 750 751 753 752 755 754 756\n",
      " 757 758 759 704 705 706 707 708 760 761 762 710 709 763 764 765 766 767\n",
      " 768 769 711 770 712 771 772 781 783 784 782 786 785 773 893 787 788 789\n",
      " 790 791 792 793 794 774 775 795 797 796 799 798 800 802 801 803 804 805\n",
      " 806 807 808 810 809 811 777 776 779 778 780 812 813 814 815 816 818 817\n",
      " 819 820 822 821 823 825 824 826 828 829 827 830 831 832 833 834 835 836\n",
      " 837 839 838 840 841 842 843 844 845 848 847 849 846 850 851 852 853 855\n",
      " 854 857 856 894 895 859 860 861 858 896 862 863 864 865 867 866 869 872\n",
      " 870 868 871 874 873 876 877 878 875 879 881 880 882 883 884]\n",
      "[8 9 7 4 0 1 2 6 3 5]\n",
      "[3 1 0 2 4]\n",
      "[3 0 2 1]\n",
      "[ 8  6 15 14  2  0  3 11  4  9 13 10  1  5  7 12]\n"
     ]
    }
   ],
   "source": [
    "# Label encoding\n",
    "# label_encoder object knows how to understand word labels.\n",
    "label_encoder = preprocessing.LabelEncoder()  \n",
    "df['Make']= label_encoder.fit_transform(df['Make'])  \n",
    "print(df['Make'].unique())\n",
    "df['Model']= label_encoder.fit_transform(df['Model'])  \n",
    "print(df['Model'].unique())\n",
    "df['Engine Fuel Type']= label_encoder.fit_transform(df['Engine Fuel Type'])  \n",
    "print(df['Engine Fuel Type'].unique())\n",
    "df['Transmission Type']= label_encoder.fit_transform(df['Transmission Type'])  \n",
    "print(df['Transmission Type'].unique())\n",
    "df['Driven_Wheels']= label_encoder.fit_transform(df['Driven_Wheels'])  \n",
    "print(df['Driven_Wheels'].unique())\n",
    "df['Vehicle Style']= label_encoder.fit_transform(df['Vehicle Style'])  \n",
    "print(df['Vehicle Style'].unique())"
   ]
  },
  {
   "cell_type": "code",
   "execution_count": 308,
   "metadata": {},
   "outputs": [
    {
     "name": "stdout",
     "output_type": "stream",
     "text": [
      "<class 'pandas.core.frame.DataFrame'>\n",
      "Int64Index: 10582 entries, 0 to 11913\n",
      "Data columns (total 17 columns):\n",
      " #   Column                Non-Null Count  Dtype  \n",
      "---  ------                --------------  -----  \n",
      " 0   Make                  10582 non-null  int32  \n",
      " 1   Model                 10582 non-null  int32  \n",
      " 2   Year                  10582 non-null  int64  \n",
      " 3   Engine Fuel Type      10582 non-null  int32  \n",
      " 4   Engine HP             10582 non-null  float64\n",
      " 5   Engine Cylinders      10582 non-null  float64\n",
      " 6   Transmission Type     10582 non-null  int32  \n",
      " 7   Driven_Wheels         10582 non-null  int32  \n",
      " 8   Number of Doors       10582 non-null  float64\n",
      " 9   Vehicle Style         10582 non-null  int32  \n",
      " 10  highway MPG           10582 non-null  int64  \n",
      " 11  city mpg              10582 non-null  int64  \n",
      " 12  Popularity            10582 non-null  int64  \n",
      " 13  MSRP                  10582 non-null  int64  \n",
      " 14  Vehicle Size_Compact  10582 non-null  uint8  \n",
      " 15  Vehicle Size_Large    10582 non-null  uint8  \n",
      " 16  Vehicle Size_Midsize  10582 non-null  uint8  \n",
      "dtypes: float64(3), int32(6), int64(5), uint8(3)\n",
      "memory usage: 1023.1 KB\n"
     ]
    }
   ],
   "source": [
    "# One-hot encoding\n",
    "cat_features = [\"Vehicle Size\"]\n",
    "df = pd.get_dummies(df, columns = cat_features)\n",
    "df.info()"
   ]
  },
  {
   "cell_type": "code",
   "execution_count": 309,
   "metadata": {},
   "outputs": [
    {
     "data": {
      "text/plain": [
       "Make                   -0.107882\n",
       "Model                  -0.026424\n",
       "Year                    0.195554\n",
       "Engine Fuel Type       -0.099380\n",
       "Engine HP               0.644059\n",
       "Engine Cylinders        0.537270\n",
       "Transmission Type      -0.173479\n",
       "Driven_Wheels          -0.026134\n",
       "Number of Doors        -0.158659\n",
       "Vehicle Style          -0.014202\n",
       "highway MPG            -0.169020\n",
       "city mpg               -0.164099\n",
       "Popularity             -0.049125\n",
       "MSRP                    1.000000\n",
       "Vehicle Size_Compact   -0.080227\n",
       "Vehicle Size_Large      0.119835\n",
       "Vehicle Size_Midsize   -0.026367\n",
       "dtype: float64"
      ]
     },
     "execution_count": 309,
     "metadata": {},
     "output_type": "execute_result"
    }
   ],
   "source": [
    "df.corrwith(df['MSRP'])"
   ]
  },
  {
   "cell_type": "code",
   "execution_count": 310,
   "metadata": {},
   "outputs": [
    {
     "data": {
      "text/html": [
       "<div>\n",
       "<style scoped>\n",
       "    .dataframe tbody tr th:only-of-type {\n",
       "        vertical-align: middle;\n",
       "    }\n",
       "\n",
       "    .dataframe tbody tr th {\n",
       "        vertical-align: top;\n",
       "    }\n",
       "\n",
       "    .dataframe thead th {\n",
       "        text-align: right;\n",
       "    }\n",
       "</style>\n",
       "<table border=\"1\" class=\"dataframe\">\n",
       "  <thead>\n",
       "    <tr style=\"text-align: right;\">\n",
       "      <th></th>\n",
       "      <th>Make</th>\n",
       "      <th>Model</th>\n",
       "      <th>Year</th>\n",
       "      <th>Engine Fuel Type</th>\n",
       "      <th>Engine HP</th>\n",
       "      <th>Engine Cylinders</th>\n",
       "      <th>Transmission Type</th>\n",
       "      <th>Driven_Wheels</th>\n",
       "      <th>Number of Doors</th>\n",
       "      <th>Vehicle Style</th>\n",
       "      <th>highway MPG</th>\n",
       "      <th>city mpg</th>\n",
       "      <th>Popularity</th>\n",
       "      <th>MSRP</th>\n",
       "      <th>Vehicle Size_Compact</th>\n",
       "      <th>Vehicle Size_Large</th>\n",
       "      <th>Vehicle Size_Midsize</th>\n",
       "    </tr>\n",
       "  </thead>\n",
       "  <tbody>\n",
       "    <tr>\n",
       "      <th>Make</th>\n",
       "      <td>1.000000</td>\n",
       "      <td>0.078967</td>\n",
       "      <td>-0.064870</td>\n",
       "      <td>0.141862</td>\n",
       "      <td>-0.226584</td>\n",
       "      <td>-0.237694</td>\n",
       "      <td>0.062305</td>\n",
       "      <td>-0.042757</td>\n",
       "      <td>0.081181</td>\n",
       "      <td>-0.055476</td>\n",
       "      <td>0.105639</td>\n",
       "      <td>0.140314</td>\n",
       "      <td>-0.277191</td>\n",
       "      <td>-0.107882</td>\n",
       "      <td>0.168371</td>\n",
       "      <td>-0.180121</td>\n",
       "      <td>-0.008551</td>\n",
       "    </tr>\n",
       "    <tr>\n",
       "      <th>Model</th>\n",
       "      <td>0.078967</td>\n",
       "      <td>1.000000</td>\n",
       "      <td>0.065684</td>\n",
       "      <td>-0.025978</td>\n",
       "      <td>0.000187</td>\n",
       "      <td>0.047682</td>\n",
       "      <td>-0.101986</td>\n",
       "      <td>-0.084969</td>\n",
       "      <td>0.151256</td>\n",
       "      <td>-0.106887</td>\n",
       "      <td>-0.091319</td>\n",
       "      <td>-0.022911</td>\n",
       "      <td>-0.091708</td>\n",
       "      <td>-0.026424</td>\n",
       "      <td>-0.074036</td>\n",
       "      <td>0.104897</td>\n",
       "      <td>-0.019238</td>\n",
       "    </tr>\n",
       "    <tr>\n",
       "      <th>Year</th>\n",
       "      <td>-0.064870</td>\n",
       "      <td>0.065684</td>\n",
       "      <td>1.000000</td>\n",
       "      <td>-0.232811</td>\n",
       "      <td>0.309808</td>\n",
       "      <td>-0.030632</td>\n",
       "      <td>-0.316670</td>\n",
       "      <td>-0.173242</td>\n",
       "      <td>0.240253</td>\n",
       "      <td>-0.081890</td>\n",
       "      <td>0.239738</td>\n",
       "      <td>0.184186</td>\n",
       "      <td>0.093922</td>\n",
       "      <td>0.195554</td>\n",
       "      <td>-0.117239</td>\n",
       "      <td>0.060928</td>\n",
       "      <td>0.063680</td>\n",
       "    </tr>\n",
       "    <tr>\n",
       "      <th>Engine Fuel Type</th>\n",
       "      <td>0.141862</td>\n",
       "      <td>-0.025978</td>\n",
       "      <td>-0.232811</td>\n",
       "      <td>1.000000</td>\n",
       "      <td>-0.141747</td>\n",
       "      <td>-0.069913</td>\n",
       "      <td>0.111905</td>\n",
       "      <td>0.008237</td>\n",
       "      <td>0.014693</td>\n",
       "      <td>-0.047582</td>\n",
       "      <td>-0.173529</td>\n",
       "      <td>-0.188097</td>\n",
       "      <td>-0.066343</td>\n",
       "      <td>-0.099380</td>\n",
       "      <td>0.129125</td>\n",
       "      <td>-0.203953</td>\n",
       "      <td>0.052353</td>\n",
       "    </tr>\n",
       "    <tr>\n",
       "      <th>Engine HP</th>\n",
       "      <td>-0.226584</td>\n",
       "      <td>0.000187</td>\n",
       "      <td>0.309808</td>\n",
       "      <td>-0.141747</td>\n",
       "      <td>1.000000</td>\n",
       "      <td>0.787170</td>\n",
       "      <td>-0.225466</td>\n",
       "      <td>-0.013949</td>\n",
       "      <td>-0.156696</td>\n",
       "      <td>0.004179</td>\n",
       "      <td>-0.427627</td>\n",
       "      <td>-0.435556</td>\n",
       "      <td>0.039223</td>\n",
       "      <td>0.644059</td>\n",
       "      <td>-0.326959</td>\n",
       "      <td>0.331402</td>\n",
       "      <td>0.033051</td>\n",
       "    </tr>\n",
       "    <tr>\n",
       "      <th>Engine Cylinders</th>\n",
       "      <td>-0.237694</td>\n",
       "      <td>0.047682</td>\n",
       "      <td>-0.030632</td>\n",
       "      <td>-0.069913</td>\n",
       "      <td>0.787170</td>\n",
       "      <td>1.000000</td>\n",
       "      <td>-0.184590</td>\n",
       "      <td>0.088335</td>\n",
       "      <td>-0.163745</td>\n",
       "      <td>0.036504</td>\n",
       "      <td>-0.605814</td>\n",
       "      <td>-0.583740</td>\n",
       "      <td>0.042746</td>\n",
       "      <td>0.537270</td>\n",
       "      <td>-0.373728</td>\n",
       "      <td>0.433606</td>\n",
       "      <td>-0.011270</td>\n",
       "    </tr>\n",
       "    <tr>\n",
       "      <th>Transmission Type</th>\n",
       "      <td>0.062305</td>\n",
       "      <td>-0.101986</td>\n",
       "      <td>-0.316670</td>\n",
       "      <td>0.111905</td>\n",
       "      <td>-0.225466</td>\n",
       "      <td>-0.184590</td>\n",
       "      <td>1.000000</td>\n",
       "      <td>0.178805</td>\n",
       "      <td>-0.329184</td>\n",
       "      <td>-0.029385</td>\n",
       "      <td>0.068690</td>\n",
       "      <td>0.070665</td>\n",
       "      <td>0.014754</td>\n",
       "      <td>-0.173479</td>\n",
       "      <td>0.361534</td>\n",
       "      <td>-0.179030</td>\n",
       "      <td>-0.204297</td>\n",
       "    </tr>\n",
       "    <tr>\n",
       "      <th>Driven_Wheels</th>\n",
       "      <td>-0.042757</td>\n",
       "      <td>-0.084969</td>\n",
       "      <td>-0.173242</td>\n",
       "      <td>0.008237</td>\n",
       "      <td>-0.013949</td>\n",
       "      <td>0.088335</td>\n",
       "      <td>0.178805</td>\n",
       "      <td>1.000000</td>\n",
       "      <td>-0.257822</td>\n",
       "      <td>0.100816</td>\n",
       "      <td>-0.003536</td>\n",
       "      <td>-0.010187</td>\n",
       "      <td>0.021392</td>\n",
       "      <td>-0.026134</td>\n",
       "      <td>0.097896</td>\n",
       "      <td>0.042840</td>\n",
       "      <td>-0.137055</td>\n",
       "    </tr>\n",
       "    <tr>\n",
       "      <th>Number of Doors</th>\n",
       "      <td>0.081181</td>\n",
       "      <td>0.151256</td>\n",
       "      <td>0.240253</td>\n",
       "      <td>0.014693</td>\n",
       "      <td>-0.156696</td>\n",
       "      <td>-0.163745</td>\n",
       "      <td>-0.329184</td>\n",
       "      <td>-0.257822</td>\n",
       "      <td>1.000000</td>\n",
       "      <td>0.156235</td>\n",
       "      <td>0.117632</td>\n",
       "      <td>0.124868</td>\n",
       "      <td>-0.066855</td>\n",
       "      <td>-0.158659</td>\n",
       "      <td>-0.261521</td>\n",
       "      <td>0.126500</td>\n",
       "      <td>0.150470</td>\n",
       "    </tr>\n",
       "    <tr>\n",
       "      <th>Vehicle Style</th>\n",
       "      <td>-0.055476</td>\n",
       "      <td>-0.106887</td>\n",
       "      <td>-0.081890</td>\n",
       "      <td>-0.047582</td>\n",
       "      <td>0.004179</td>\n",
       "      <td>0.036504</td>\n",
       "      <td>-0.029385</td>\n",
       "      <td>0.100816</td>\n",
       "      <td>0.156235</td>\n",
       "      <td>1.000000</td>\n",
       "      <td>0.028201</td>\n",
       "      <td>-0.041216</td>\n",
       "      <td>0.042470</td>\n",
       "      <td>-0.014202</td>\n",
       "      <td>-0.192523</td>\n",
       "      <td>0.190420</td>\n",
       "      <td>0.023686</td>\n",
       "    </tr>\n",
       "    <tr>\n",
       "      <th>highway MPG</th>\n",
       "      <td>0.105639</td>\n",
       "      <td>-0.091319</td>\n",
       "      <td>0.239738</td>\n",
       "      <td>-0.173529</td>\n",
       "      <td>-0.427627</td>\n",
       "      <td>-0.605814</td>\n",
       "      <td>0.068690</td>\n",
       "      <td>-0.003536</td>\n",
       "      <td>0.117632</td>\n",
       "      <td>0.028201</td>\n",
       "      <td>1.000000</td>\n",
       "      <td>0.885928</td>\n",
       "      <td>-0.014010</td>\n",
       "      <td>-0.169020</td>\n",
       "      <td>0.214204</td>\n",
       "      <td>-0.247590</td>\n",
       "      <td>0.005624</td>\n",
       "    </tr>\n",
       "    <tr>\n",
       "      <th>city mpg</th>\n",
       "      <td>0.140314</td>\n",
       "      <td>-0.022911</td>\n",
       "      <td>0.184186</td>\n",
       "      <td>-0.188097</td>\n",
       "      <td>-0.435556</td>\n",
       "      <td>-0.583740</td>\n",
       "      <td>0.070665</td>\n",
       "      <td>-0.010187</td>\n",
       "      <td>0.124868</td>\n",
       "      <td>-0.041216</td>\n",
       "      <td>0.885928</td>\n",
       "      <td>1.000000</td>\n",
       "      <td>0.001203</td>\n",
       "      <td>-0.164099</td>\n",
       "      <td>0.224431</td>\n",
       "      <td>-0.214006</td>\n",
       "      <td>-0.034748</td>\n",
       "    </tr>\n",
       "    <tr>\n",
       "      <th>Popularity</th>\n",
       "      <td>-0.277191</td>\n",
       "      <td>-0.091708</td>\n",
       "      <td>0.093922</td>\n",
       "      <td>-0.066343</td>\n",
       "      <td>0.039223</td>\n",
       "      <td>0.042746</td>\n",
       "      <td>0.014754</td>\n",
       "      <td>0.021392</td>\n",
       "      <td>-0.066855</td>\n",
       "      <td>0.042470</td>\n",
       "      <td>-0.014010</td>\n",
       "      <td>0.001203</td>\n",
       "      <td>1.000000</td>\n",
       "      <td>-0.049125</td>\n",
       "      <td>-0.060529</td>\n",
       "      <td>0.126321</td>\n",
       "      <td>-0.052033</td>\n",
       "    </tr>\n",
       "    <tr>\n",
       "      <th>MSRP</th>\n",
       "      <td>-0.107882</td>\n",
       "      <td>-0.026424</td>\n",
       "      <td>0.195554</td>\n",
       "      <td>-0.099380</td>\n",
       "      <td>0.644059</td>\n",
       "      <td>0.537270</td>\n",
       "      <td>-0.173479</td>\n",
       "      <td>-0.026134</td>\n",
       "      <td>-0.158659</td>\n",
       "      <td>-0.014202</td>\n",
       "      <td>-0.169020</td>\n",
       "      <td>-0.164099</td>\n",
       "      <td>-0.049125</td>\n",
       "      <td>1.000000</td>\n",
       "      <td>-0.080227</td>\n",
       "      <td>0.119835</td>\n",
       "      <td>-0.026367</td>\n",
       "    </tr>\n",
       "    <tr>\n",
       "      <th>Vehicle Size_Compact</th>\n",
       "      <td>0.168371</td>\n",
       "      <td>-0.074036</td>\n",
       "      <td>-0.117239</td>\n",
       "      <td>0.129125</td>\n",
       "      <td>-0.326959</td>\n",
       "      <td>-0.373728</td>\n",
       "      <td>0.361534</td>\n",
       "      <td>0.097896</td>\n",
       "      <td>-0.261521</td>\n",
       "      <td>-0.192523</td>\n",
       "      <td>0.214204</td>\n",
       "      <td>0.224431</td>\n",
       "      <td>-0.060529</td>\n",
       "      <td>-0.080227</td>\n",
       "      <td>1.000000</td>\n",
       "      <td>-0.453099</td>\n",
       "      <td>-0.602764</td>\n",
       "    </tr>\n",
       "    <tr>\n",
       "      <th>Vehicle Size_Large</th>\n",
       "      <td>-0.180121</td>\n",
       "      <td>0.104897</td>\n",
       "      <td>0.060928</td>\n",
       "      <td>-0.203953</td>\n",
       "      <td>0.331402</td>\n",
       "      <td>0.433606</td>\n",
       "      <td>-0.179030</td>\n",
       "      <td>0.042840</td>\n",
       "      <td>0.126500</td>\n",
       "      <td>0.190420</td>\n",
       "      <td>-0.247590</td>\n",
       "      <td>-0.214006</td>\n",
       "      <td>0.126321</td>\n",
       "      <td>0.119835</td>\n",
       "      <td>-0.453099</td>\n",
       "      <td>1.000000</td>\n",
       "      <td>-0.438202</td>\n",
       "    </tr>\n",
       "    <tr>\n",
       "      <th>Vehicle Size_Midsize</th>\n",
       "      <td>-0.008551</td>\n",
       "      <td>-0.019238</td>\n",
       "      <td>0.063680</td>\n",
       "      <td>0.052353</td>\n",
       "      <td>0.033051</td>\n",
       "      <td>-0.011270</td>\n",
       "      <td>-0.204297</td>\n",
       "      <td>-0.137055</td>\n",
       "      <td>0.150470</td>\n",
       "      <td>0.023686</td>\n",
       "      <td>0.005624</td>\n",
       "      <td>-0.034748</td>\n",
       "      <td>-0.052033</td>\n",
       "      <td>-0.026367</td>\n",
       "      <td>-0.602764</td>\n",
       "      <td>-0.438202</td>\n",
       "      <td>1.000000</td>\n",
       "    </tr>\n",
       "  </tbody>\n",
       "</table>\n",
       "</div>"
      ],
      "text/plain": [
       "                          Make     Model      Year  Engine Fuel Type  \\\n",
       "Make                  1.000000  0.078967 -0.064870          0.141862   \n",
       "Model                 0.078967  1.000000  0.065684         -0.025978   \n",
       "Year                 -0.064870  0.065684  1.000000         -0.232811   \n",
       "Engine Fuel Type      0.141862 -0.025978 -0.232811          1.000000   \n",
       "Engine HP            -0.226584  0.000187  0.309808         -0.141747   \n",
       "Engine Cylinders     -0.237694  0.047682 -0.030632         -0.069913   \n",
       "Transmission Type     0.062305 -0.101986 -0.316670          0.111905   \n",
       "Driven_Wheels        -0.042757 -0.084969 -0.173242          0.008237   \n",
       "Number of Doors       0.081181  0.151256  0.240253          0.014693   \n",
       "Vehicle Style        -0.055476 -0.106887 -0.081890         -0.047582   \n",
       "highway MPG           0.105639 -0.091319  0.239738         -0.173529   \n",
       "city mpg              0.140314 -0.022911  0.184186         -0.188097   \n",
       "Popularity           -0.277191 -0.091708  0.093922         -0.066343   \n",
       "MSRP                 -0.107882 -0.026424  0.195554         -0.099380   \n",
       "Vehicle Size_Compact  0.168371 -0.074036 -0.117239          0.129125   \n",
       "Vehicle Size_Large   -0.180121  0.104897  0.060928         -0.203953   \n",
       "Vehicle Size_Midsize -0.008551 -0.019238  0.063680          0.052353   \n",
       "\n",
       "                      Engine HP  Engine Cylinders  Transmission Type  \\\n",
       "Make                  -0.226584         -0.237694           0.062305   \n",
       "Model                  0.000187          0.047682          -0.101986   \n",
       "Year                   0.309808         -0.030632          -0.316670   \n",
       "Engine Fuel Type      -0.141747         -0.069913           0.111905   \n",
       "Engine HP              1.000000          0.787170          -0.225466   \n",
       "Engine Cylinders       0.787170          1.000000          -0.184590   \n",
       "Transmission Type     -0.225466         -0.184590           1.000000   \n",
       "Driven_Wheels         -0.013949          0.088335           0.178805   \n",
       "Number of Doors       -0.156696         -0.163745          -0.329184   \n",
       "Vehicle Style          0.004179          0.036504          -0.029385   \n",
       "highway MPG           -0.427627         -0.605814           0.068690   \n",
       "city mpg              -0.435556         -0.583740           0.070665   \n",
       "Popularity             0.039223          0.042746           0.014754   \n",
       "MSRP                   0.644059          0.537270          -0.173479   \n",
       "Vehicle Size_Compact  -0.326959         -0.373728           0.361534   \n",
       "Vehicle Size_Large     0.331402          0.433606          -0.179030   \n",
       "Vehicle Size_Midsize   0.033051         -0.011270          -0.204297   \n",
       "\n",
       "                      Driven_Wheels  Number of Doors  Vehicle Style  \\\n",
       "Make                      -0.042757         0.081181      -0.055476   \n",
       "Model                     -0.084969         0.151256      -0.106887   \n",
       "Year                      -0.173242         0.240253      -0.081890   \n",
       "Engine Fuel Type           0.008237         0.014693      -0.047582   \n",
       "Engine HP                 -0.013949        -0.156696       0.004179   \n",
       "Engine Cylinders           0.088335        -0.163745       0.036504   \n",
       "Transmission Type          0.178805        -0.329184      -0.029385   \n",
       "Driven_Wheels              1.000000        -0.257822       0.100816   \n",
       "Number of Doors           -0.257822         1.000000       0.156235   \n",
       "Vehicle Style              0.100816         0.156235       1.000000   \n",
       "highway MPG               -0.003536         0.117632       0.028201   \n",
       "city mpg                  -0.010187         0.124868      -0.041216   \n",
       "Popularity                 0.021392        -0.066855       0.042470   \n",
       "MSRP                      -0.026134        -0.158659      -0.014202   \n",
       "Vehicle Size_Compact       0.097896        -0.261521      -0.192523   \n",
       "Vehicle Size_Large         0.042840         0.126500       0.190420   \n",
       "Vehicle Size_Midsize      -0.137055         0.150470       0.023686   \n",
       "\n",
       "                      highway MPG  city mpg  Popularity      MSRP  \\\n",
       "Make                     0.105639  0.140314   -0.277191 -0.107882   \n",
       "Model                   -0.091319 -0.022911   -0.091708 -0.026424   \n",
       "Year                     0.239738  0.184186    0.093922  0.195554   \n",
       "Engine Fuel Type        -0.173529 -0.188097   -0.066343 -0.099380   \n",
       "Engine HP               -0.427627 -0.435556    0.039223  0.644059   \n",
       "Engine Cylinders        -0.605814 -0.583740    0.042746  0.537270   \n",
       "Transmission Type        0.068690  0.070665    0.014754 -0.173479   \n",
       "Driven_Wheels           -0.003536 -0.010187    0.021392 -0.026134   \n",
       "Number of Doors          0.117632  0.124868   -0.066855 -0.158659   \n",
       "Vehicle Style            0.028201 -0.041216    0.042470 -0.014202   \n",
       "highway MPG              1.000000  0.885928   -0.014010 -0.169020   \n",
       "city mpg                 0.885928  1.000000    0.001203 -0.164099   \n",
       "Popularity              -0.014010  0.001203    1.000000 -0.049125   \n",
       "MSRP                    -0.169020 -0.164099   -0.049125  1.000000   \n",
       "Vehicle Size_Compact     0.214204  0.224431   -0.060529 -0.080227   \n",
       "Vehicle Size_Large      -0.247590 -0.214006    0.126321  0.119835   \n",
       "Vehicle Size_Midsize     0.005624 -0.034748   -0.052033 -0.026367   \n",
       "\n",
       "                      Vehicle Size_Compact  Vehicle Size_Large  \\\n",
       "Make                              0.168371           -0.180121   \n",
       "Model                            -0.074036            0.104897   \n",
       "Year                             -0.117239            0.060928   \n",
       "Engine Fuel Type                  0.129125           -0.203953   \n",
       "Engine HP                        -0.326959            0.331402   \n",
       "Engine Cylinders                 -0.373728            0.433606   \n",
       "Transmission Type                 0.361534           -0.179030   \n",
       "Driven_Wheels                     0.097896            0.042840   \n",
       "Number of Doors                  -0.261521            0.126500   \n",
       "Vehicle Style                    -0.192523            0.190420   \n",
       "highway MPG                       0.214204           -0.247590   \n",
       "city mpg                          0.224431           -0.214006   \n",
       "Popularity                       -0.060529            0.126321   \n",
       "MSRP                             -0.080227            0.119835   \n",
       "Vehicle Size_Compact              1.000000           -0.453099   \n",
       "Vehicle Size_Large               -0.453099            1.000000   \n",
       "Vehicle Size_Midsize             -0.602764           -0.438202   \n",
       "\n",
       "                      Vehicle Size_Midsize  \n",
       "Make                             -0.008551  \n",
       "Model                            -0.019238  \n",
       "Year                              0.063680  \n",
       "Engine Fuel Type                  0.052353  \n",
       "Engine HP                         0.033051  \n",
       "Engine Cylinders                 -0.011270  \n",
       "Transmission Type                -0.204297  \n",
       "Driven_Wheels                    -0.137055  \n",
       "Number of Doors                   0.150470  \n",
       "Vehicle Style                     0.023686  \n",
       "highway MPG                       0.005624  \n",
       "city mpg                         -0.034748  \n",
       "Popularity                       -0.052033  \n",
       "MSRP                             -0.026367  \n",
       "Vehicle Size_Compact             -0.602764  \n",
       "Vehicle Size_Large               -0.438202  \n",
       "Vehicle Size_Midsize              1.000000  "
      ]
     },
     "execution_count": 310,
     "metadata": {},
     "output_type": "execute_result"
    }
   ],
   "source": [
    "df.corr()"
   ]
  },
  {
   "cell_type": "code",
   "execution_count": 311,
   "metadata": {},
   "outputs": [
    {
     "data": {
      "image/png": "[encoded data removed]",
      "text/plain": [
       "<Figure size 1080x648 with 2 Axes>"
      ]
     },
     "metadata": {
      "needs_background": "light"
     },
     "output_type": "display_data"
    }
   ],
   "source": [
    "df_corr=df.corr()\n",
    "f,ax=plt.subplots(figsize=(15,9))\n",
    "sns.heatmap(df_corr,cmap='mako',annot=True)\n",
    "plt.title(\"Correlation between features\",weight='bold',fontsize=18)\n",
    "plt.show()"
   ]
  },
  {
   "cell_type": "code",
   "execution_count": 312,
   "metadata": {},
   "outputs": [],
   "source": [
    "# Splitting the Dataset\n",
    "xdf = df.drop([\"MSRP\"], axis = 1)\n",
    "X = xdf.values\n",
    "y = df[\"MSRP\"].values\n",
    "\n",
    "X_train, X_test, y_train, y_test = train_test_split(X, y, test_size = 0.2, random_state = 0)"
   ]
  },
  {
   "cell_type": "code",
   "execution_count": 313,
   "metadata": {},
   "outputs": [
    {
     "name": "stdout",
     "output_type": "stream",
     "text": [
      "(8465, 16)\n",
      "(8465,)\n",
      "(2117, 16)\n",
      "(2117,)\n"
     ]
    }
   ],
   "source": [
    "print(X_train.shape)\n",
    "print(y_train.shape)\n",
    "print(X_test.shape)\n",
    "print(y_test.shape)"
   ]
  },
  {
   "cell_type": "code",
   "execution_count": 314,
   "metadata": {},
   "outputs": [
    {
     "data": {
      "text/plain": [
       "array([[4.000e+00, 1.000e+00, 2.011e+03, ..., 1.000e+00, 0.000e+00,\n",
       "        0.000e+00],\n",
       "       [4.000e+00, 0.000e+00, 2.011e+03, ..., 1.000e+00, 0.000e+00,\n",
       "        0.000e+00],\n",
       "       [4.000e+00, 0.000e+00, 2.011e+03, ..., 1.000e+00, 0.000e+00,\n",
       "        0.000e+00],\n",
       "       ...,\n",
       "       [0.000e+00, 8.830e+02, 2.012e+03, ..., 0.000e+00, 0.000e+00,\n",
       "        1.000e+00],\n",
       "       [0.000e+00, 8.830e+02, 2.013e+03, ..., 0.000e+00, 0.000e+00,\n",
       "        1.000e+00],\n",
       "       [2.500e+01, 8.840e+02, 2.006e+03, ..., 0.000e+00, 0.000e+00,\n",
       "        1.000e+00]])"
      ]
     },
     "execution_count": 314,
     "metadata": {},
     "output_type": "execute_result"
    }
   ],
   "source": [
    "X"
   ]
  },
  {
   "cell_type": "code",
   "execution_count": 315,
   "metadata": {},
   "outputs": [],
   "source": [
    "# normalizing the data\n",
    "from sklearn.preprocessing import StandardScaler\n",
    "sc_x=StandardScaler()\n",
    "sc_y=StandardScaler()\n",
    "\n",
    "X=sc_x.fit_transform(X)"
   ]
  },
  {
   "cell_type": "code",
   "execution_count": 316,
   "metadata": {},
   "outputs": [
    {
     "data": {
      "text/plain": [
       "array([[-1.29974219, -1.69922939,  0.00824523, ...,  1.26668048,\n",
       "        -0.57393117, -0.76350959],\n",
       "       [-1.29974219, -1.70300752,  0.00824523, ...,  1.26668048,\n",
       "        -0.57393117, -0.76350959],\n",
       "       [-1.29974219, -1.70300752,  0.00824523, ...,  1.26668048,\n",
       "        -0.57393117, -0.76350959],\n",
       "       ...,\n",
       "       [-1.58246154,  1.63308386,  0.1517502 , ..., -0.78946507,\n",
       "        -0.57393117,  1.30974124],\n",
       "       [-1.58246154,  1.63308386,  0.29525517, ..., -0.78946507,\n",
       "        -0.57393117,  1.30974124],\n",
       "       [ 0.18453435,  1.63686199, -0.70927961, ..., -0.78946507,\n",
       "        -0.57393117,  1.30974124]])"
      ]
     },
     "execution_count": 316,
     "metadata": {},
     "output_type": "execute_result"
    }
   ],
   "source": [
    "X"
   ]
  },
  {
   "cell_type": "markdown",
   "metadata": {},
   "source": [
    "Modeling and Testing"
   ]
  },
  {
   "cell_type": "code",
   "execution_count": 317,
   "metadata": {},
   "outputs": [],
   "source": [
    "from sklearn.ensemble import RandomForestRegressor\n",
    "from xgboost import XGBRegressor\n",
    "from lightgbm import LGBMRegressor\n",
    "from sklearn.metrics import r2_score, mean_squared_error, mean_squared_log_error, make_scorer\n",
    "from sklearn.pipeline import make_pipeline\n",
    "from sklearn.model_selection import GridSearchCV\n",
    "from sklearn.model_selection import cross_val_score\n",
    "from sklearn.model_selection import KFold\n",
    "from sklearn.metrics import mean_absolute_percentage_error\n",
    "import math\n",
    "import numpy as np"
   ]
  },
  {
   "cell_type": "markdown",
   "metadata": {},
   "source": [
    "Support Vector Machine\n",
    "\n",
    "Support Vector Machine or SVM is one of the most popular Supervised Learning algorithms, which is used for Classification as well as Regression problems.   \n",
    "The goal of the SVM algorithm is to create the best line or decision boundary that can segregate n-dimensional space into classes so that we can easily put the new data point in the correct category in the future. This best decision boundary is called a hyperplane.   \n",
    "SVM chooses the extreme points/vectors that help in creating the hyperplane. These extreme cases are called as support vectors, and hence algorithm is termed as Support Vector Machine."
   ]
  },
  {
   "cell_type": "code",
   "execution_count": 318,
   "metadata": {},
   "outputs": [
    {
     "name": "stdout",
     "output_type": "stream",
     "text": [
      "Pipeline(steps=[('svr', SVR())])\n",
      "Training Accuracy : -0.03343647679638839\n",
      "Testing Accuracy : -0.04914574580006548\n"
     ]
    }
   ],
   "source": [
    "start = timeit.default_timer()\n",
    "from sklearn.svm import SVR\n",
    "svr = SVR(kernel = 'rbf')\n",
    "svr_model = make_pipeline(svr)\n",
    "svr_model.fit(X_train,y_train)\n",
    "print(svr_model)\n",
    "# calculating the accuracies\n",
    "print(\"Training Accuracy :\",svr_model.score(X_train,y_train))\n",
    "print(\"Testing Accuracy :\",svr_model.score(X_test,y_test))"
   ]
  },
  {
   "cell_type": "code",
   "execution_count": 319,
   "metadata": {},
   "outputs": [
    {
     "name": "stdout",
     "output_type": "stream",
     "text": [
      "score: -0.035 (0.006)\n"
     ]
    }
   ],
   "source": [
    "cv = KFold(n_splits=5, random_state=1, shuffle=True)\n",
    "# evaluate model\n",
    "scores = cross_val_score(svr_model, X, y, cv=cv, n_jobs=-1)\n",
    "# report performance\n",
    "print('score: %.3f (%.3f)' % (np.mean(scores), np.std(scores)))"
   ]
  },
  {
   "cell_type": "code",
   "execution_count": 320,
   "metadata": {},
   "outputs": [
    {
     "name": "stdout",
     "output_type": "stream",
     "text": [
      "R2 Score: 2608925986.798368\n",
      "Mean Squarred Error: 2608925986.798368\n",
      "Root Mean Squarred Error: 51077.64664506743\n",
      "MAPE: 1.635443066044965\n"
     ]
    }
   ],
   "source": [
    "svr_yp = svr_model.predict(X_test)\n",
    "print(\"R2 Score:\",mean_squared_error(y_test, svr_yp))\n",
    "print(\"Mean Squarred Error:\", mean_squared_error(y_test, svr_yp))\n",
    "print(\"Root Mean Squarred Error:\", math.sqrt(mean_squared_error(y_test, svr_yp)))\n",
    "print(\"MAPE:\",mean_absolute_percentage_error(y_test, svr_yp))"
   ]
  },
  {
   "cell_type": "code",
   "execution_count": 321,
   "metadata": {},
   "outputs": [
    {
     "name": "stdout",
     "output_type": "stream",
     "text": [
      "Time:  22.8630634000001\n"
     ]
    },
    {
     "data": {
      "image/png": "[encoded data removed]",
      "text/plain": [
       "<Figure size 432x288 with 1 Axes>"
      ]
     },
     "metadata": {
      "needs_background": "light"
     },
     "output_type": "display_data"
    }
   ],
   "source": [
    "plt.scatter(y_test, svr_yp)\n",
    "plt.xlabel('True Value')\n",
    "plt.ylabel(\"Predicted Value\")\n",
    "stop = timeit.default_timer()\n",
    "svr_time = stop - start\n",
    "print('Time: ', svr_time)"
   ]
  },
  {
   "cell_type": "markdown",
   "metadata": {},
   "source": [
    "Linear Regression\n",
    "\n",
    "Linear Regression is a machine learning algorithm based on supervised learning. It performs a regression task. Regression models a target prediction value based on independent variables. It is mostly used for finding out the relationship between variables and forecasting."
   ]
  },
  {
   "cell_type": "code",
   "execution_count": 322,
   "metadata": {},
   "outputs": [
    {
     "name": "stdout",
     "output_type": "stream",
     "text": [
      "Training Accuracy : 0.4816464010542366\n",
      "Testing Accuracy : 0.5425761928514978\n"
     ]
    }
   ],
   "source": [
    "start = timeit.default_timer()\n",
    "from sklearn.linear_model import LinearRegression\n",
    "\n",
    "lr = LinearRegression()\n",
    "lr_model = make_pipeline(lr)\n",
    "lr_model.fit(X_train,y_train)\n",
    "\n",
    "# calculating the accuracies\n",
    "print(\"Training Accuracy :\",lr_model.score(X_train,y_train))\n",
    "print(\"Testing Accuracy :\",lr_model.score(X_test,y_test))"
   ]
  },
  {
   "cell_type": "code",
   "execution_count": 323,
   "metadata": {},
   "outputs": [
    {
     "name": "stdout",
     "output_type": "stream",
     "text": [
      "score: 0.512 (0.080)\n"
     ]
    }
   ],
   "source": [
    "cv = KFold(n_splits=5, random_state=1, shuffle=True)\n",
    "# evaluate model\n",
    "scores = cross_val_score(lr_model, X, y, cv=cv, n_jobs=-1)\n",
    "# report performance\n",
    "print('score: %.3f (%.3f)' % (np.mean(scores), np.std(scores)))"
   ]
  },
  {
   "cell_type": "code",
   "execution_count": 324,
   "metadata": {},
   "outputs": [
    {
     "name": "stdout",
     "output_type": "stream",
     "text": [
      "R2 Score: 1137482434.8545704\n",
      "Mean Squarred Error: 1137482434.8545704\n",
      "Root Mean Squarred Error: 33726.58350403388\n",
      "MAPE: 1.298923307454136\n"
     ]
    }
   ],
   "source": [
    "lr_yp = lr_model.predict(X_test)\n",
    "print(\"R2 Score:\",mean_squared_error(y_test, lr_yp))\n",
    "print(\"Mean Squarred Error:\", mean_squared_error(y_test, lr_yp))\n",
    "print(\"Root Mean Squarred Error:\", math.sqrt(mean_squared_error(y_test, lr_yp)))\n",
    "print(\"MAPE:\",mean_absolute_percentage_error(y_test, lr_yp))"
   ]
  },
  {
   "cell_type": "code",
   "execution_count": 325,
   "metadata": {},
   "outputs": [
    {
     "name": "stdout",
     "output_type": "stream",
     "text": [
      "Time:  1.5812660999999935\n"
     ]
    },
    {
     "data": {
      "image/png": "[encoded data removed]",
      "text/plain": [
       "<Figure size 432x288 with 1 Axes>"
      ]
     },
     "metadata": {
      "needs_background": "light"
     },
     "output_type": "display_data"
    }
   ],
   "source": [
    "plt.scatter(y_test, lr_yp)\n",
    "plt.xlabel('True Value')\n",
    "plt.ylabel(\"Predicted Value\")\n",
    "stop = timeit.default_timer()\n",
    "lr_time = stop - start\n",
    "print('Time: ', lr_time)"
   ]
  },
  {
   "cell_type": "markdown",
   "metadata": {},
   "source": [
    "LGBM Regressor\n",
    "\n",
    "A Gradient Boosting Decision tree or a GBDT is a very popular machine learning algorithm that has effective implementations.    \n",
    "The efficiency and scalability of the model are not quite up to the mark when there are more features in the data. For this specific behavior, the major reason is that each feature should scan all the various data instances to make an estimate of all the possible split points which is very time-consuming and tedious.    \n",
    "To solve this problem, The LGBM or Light Gradient Boosting Model is used."
   ]
  },
  {
   "cell_type": "code",
   "execution_count": 326,
   "metadata": {},
   "outputs": [
    {
     "name": "stdout",
     "output_type": "stream",
     "text": [
      "Pipeline(steps=[('lgbmregressor', LGBMRegressor(n_estimators=200))])\n",
      "Training Accuracy : 0.9417074955054746\n",
      "Testing Accuracy : 0.9453866858564184\n"
     ]
    }
   ],
   "source": [
    "start = timeit.default_timer()\n",
    "lgm = LGBMRegressor(n_estimators = 200)\n",
    "model = make_pipeline(lgm)\n",
    "model.fit(X_train, y_train)\n",
    "print(model)\n",
    "print(\"Training Accuracy :\",lgm.score(X_train,y_train))\n",
    "print(\"Testing Accuracy :\",lgm.score(X_test,y_test))"
   ]
  },
  {
   "cell_type": "code",
   "execution_count": 327,
   "metadata": {},
   "outputs": [
    {
     "name": "stdout",
     "output_type": "stream",
     "text": [
      "score: 0.905 (0.084)\n"
     ]
    }
   ],
   "source": [
    "cv = KFold(n_splits=5, random_state=1, shuffle=True)\n",
    "# evaluate model\n",
    "scores = cross_val_score(model, X, y, cv=cv, n_jobs=-1)\n",
    "# report performance\n",
    "print('score: %.3f (%.3f)' % (np.mean(scores), np.std(scores)))"
   ]
  },
  {
   "cell_type": "code",
   "execution_count": 328,
   "metadata": {},
   "outputs": [
    {
     "name": "stdout",
     "output_type": "stream",
     "text": [
      "R2 Score: 0.9453866858564184\n",
      "Mean Squared Error: 135807722.67795634\n",
      "RSME: 11653.65705167079\n",
      "MAPE: 0.13383983042301226\n"
     ]
    }
   ],
   "source": [
    "yp = lgm.predict(X_test)\n",
    "print(\"R2 Score:\", r2_score(y_test, yp))\n",
    "print(\"Mean Squared Error:\",mean_squared_error(y_test, yp))\n",
    "print(\"RSME:\", math.sqrt(mean_squared_error(y_test, yp)))\n",
    "print(\"MAPE:\",mean_absolute_percentage_error(y_test, yp))"
   ]
  },
  {
   "cell_type": "code",
   "execution_count": 329,
   "metadata": {},
   "outputs": [
    {
     "name": "stdout",
     "output_type": "stream",
     "text": [
      "Time:  3.1683720000000903\n"
     ]
    },
    {
     "data": {
      "image/png": "[encoded data removed]",
      "text/plain": [
       "<Figure size 432x288 with 1 Axes>"
      ]
     },
     "metadata": {
      "needs_background": "light"
     },
     "output_type": "display_data"
    }
   ],
   "source": [
    "plt.scatter(y_test, yp)\n",
    "plt.xlabel('True Value')\n",
    "plt.ylabel(\"Predicted Value\")\n",
    "stop = timeit.default_timer()\n",
    "lgm_time = stop - start\n",
    "print('Time: ', lgm_time)"
   ]
  },
  {
   "cell_type": "markdown",
   "metadata": {},
   "source": [
    "XGB Regressor\n",
    "\n",
    "XGBoost is an efficient implementation of gradient boosting that can be used for regression predictive modeling.   \n",
    "Gradient boosting refers to a class of ensemble machine learning algorithms that can be used for classification or regression predictive modeling problems. Ensembles are constructed from decision tree models. Trees are added one at a time to the ensemble and fit to correct the prediction errors made by prior models. This is a type of ensemble machine learning model referred to as boosting.   \n",
    "Extreme Gradient Boosting, or XGBoost for short, is an efficient open-source implementation of the gradient boosting algorithm. As such, XGBoost is an algorithm, an open-source project, and a Python library."
   ]
  },
  {
   "cell_type": "code",
   "execution_count": 330,
   "metadata": {},
   "outputs": [
    {
     "name": "stdout",
     "output_type": "stream",
     "text": [
      "Training Accuracy : 0.9937978820180313\n",
      "Testing Accuracy : 0.9721870241027762\n"
     ]
    }
   ],
   "source": [
    "start = timeit.default_timer()\n",
    "xgb = XGBRegressor()\n",
    "parameters = {'n_estimators': [500]}\n",
    "xgb_grid = GridSearchCV(xgb, parameters, cv = 2 )\n",
    "xgb_grid.fit(X_train, y_train)\n",
    "print(\"Training Accuracy :\",xgb_grid.score(X_train,y_train))\n",
    "print(\"Testing Accuracy :\",xgb_grid.score(X_test,y_test))"
   ]
  },
  {
   "cell_type": "code",
   "execution_count": 331,
   "metadata": {},
   "outputs": [
    {
     "name": "stdout",
     "output_type": "stream",
     "text": [
      "0.797675367837722\n"
     ]
    }
   ],
   "source": [
    "print(xgb_grid.best_score_)"
   ]
  },
  {
   "cell_type": "code",
   "execution_count": 332,
   "metadata": {},
   "outputs": [
    {
     "data": {
      "text/plain": [
       "{'n_estimators': 500}"
      ]
     },
     "execution_count": 332,
     "metadata": {},
     "output_type": "execute_result"
    }
   ],
   "source": [
    "xgb_grid.best_params_"
   ]
  },
  {
   "cell_type": "code",
   "execution_count": 333,
   "metadata": {},
   "outputs": [
    {
     "name": "stdout",
     "output_type": "stream",
     "text": [
      "score: 0.933 (0.079)\n"
     ]
    }
   ],
   "source": [
    "cv = KFold(n_splits=5, random_state=1, shuffle=True)\n",
    "# evaluate model\n",
    "scores = cross_val_score(xgb_grid, X, y, cv=cv, n_jobs=-1)\n",
    "# report performance\n",
    "print('score: %.3f (%.3f)' % (np.mean(scores), np.std(scores)))"
   ]
  },
  {
   "cell_type": "code",
   "execution_count": 334,
   "metadata": {},
   "outputs": [
    {
     "name": "stdout",
     "output_type": "stream",
     "text": [
      "The dataframe contains 10582 rows and 17 columns\n",
      "\n",
      "The labels are ['Make', 'Model', 'Year', 'Engine Fuel Type', 'Engine HP', 'Engine Cylinders', 'Transmission Type', 'Driven_Wheels', 'Number of Doors', 'Vehicle Style', 'highway MPG', 'city mpg', 'Popularity', 'MSRP', 'Vehicle Size_Compact', 'Vehicle Size_Large', 'Vehicle Size_Midsize'] \n",
      "\n",
      "<class 'pandas.core.frame.DataFrame'>\n",
      "Int64Index: 10582 entries, 0 to 11913\n",
      "Data columns (total 17 columns):\n",
      " #   Column                Non-Null Count  Dtype  \n",
      "---  ------                --------------  -----  \n",
      " 0   Make                  10582 non-null  int32  \n",
      " 1   Model                 10582 non-null  int32  \n",
      " 2   Year                  10582 non-null  int64  \n",
      " 3   Engine Fuel Type      10582 non-null  int32  \n",
      " 4   Engine HP             10582 non-null  float64\n",
      " 5   Engine Cylinders      10582 non-null  float64\n",
      " 6   Transmission Type     10582 non-null  int32  \n",
      " 7   Driven_Wheels         10582 non-null  int32  \n",
      " 8   Number of Doors       10582 non-null  float64\n",
      " 9   Vehicle Style         10582 non-null  int32  \n",
      " 10  highway MPG           10582 non-null  int64  \n",
      " 11  city mpg              10582 non-null  int64  \n",
      " 12  Popularity            10582 non-null  int64  \n",
      " 13  MSRP                  10582 non-null  int64  \n",
      " 14  Vehicle Size_Compact  10582 non-null  uint8  \n",
      " 15  Vehicle Size_Large    10582 non-null  uint8  \n",
      " 16  Vehicle Size_Midsize  10582 non-null  uint8  \n",
      "dtypes: float64(3), int32(6), int64(5), uint8(3)\n",
      "memory usage: 1023.1 KB\n"
     ]
    }
   ],
   "source": [
    "print(\"The dataframe contains\",df.shape[0],\"rows and\",df.shape[1],\"columns\\n\")\n",
    "print(\"The labels are\",[df.columns[i] for i in range(df.shape[1])], \"\\n\")\n",
    "\n",
    "df.info()"
   ]
  },
  {
   "cell_type": "code",
   "execution_count": 335,
   "metadata": {},
   "outputs": [
    {
     "name": "stdout",
     "output_type": "stream",
     "text": [
      "R2 score 0.9721870241027762\n",
      "Mean Squarred Error: 69162931.72702026\n",
      "Root Mean Squarred Error: 8316.425417631079\n",
      "MAPE: 0.09879991439890928\n"
     ]
    }
   ],
   "source": [
    "xgb_predict = xgb_grid.predict(X_test)\n",
    "print(\"R2 score\",r2_score(y_test, xgb_predict))\n",
    "print(\"Mean Squarred Error:\",mean_squared_error(y_test, xgb_predict))\n",
    "print(\"Root Mean Squarred Error:\", math.sqrt(mean_squared_error(y_test, xgb_predict)))\n",
    "print(\"MAPE:\",mean_absolute_percentage_error(y_test, xgb_predict))"
   ]
  },
  {
   "cell_type": "code",
   "execution_count": 336,
   "metadata": {},
   "outputs": [
    {
     "name": "stdout",
     "output_type": "stream",
     "text": [
      "Time:  12.218570099999852\n"
     ]
    },
    {
     "data": {
      "image/png": "[encoded data removed]",
      "text/plain": [
       "<Figure size 432x288 with 1 Axes>"
      ]
     },
     "metadata": {
      "needs_background": "light"
     },
     "output_type": "display_data"
    }
   ],
   "source": [
    "plt.scatter(y_test, xgb_predict)\n",
    "plt.xlabel('True Value')\n",
    "plt.ylabel(\"Predicted Value\")\n",
    "stop = timeit.default_timer()\n",
    "xgb_time = stop - start\n",
    "print('Time: ', xgb_time)"
   ]
  },
  {
   "cell_type": "markdown",
   "metadata": {},
   "source": [
    "Random Forest Regressor\n",
    "\n",
    "Every decision tree has high variance, but when we combine all of them together in parallel then the resultant variance is low as each decision tree gets perfectly trained on that particular sample data, and hence the output doesn’t depend on one decision tree but on multiple decision trees.   \n",
    "Random Forest has multiple decision trees as base learning models. We randomly perform row sampling and feature sampling from the dataset forming sample datasets for every model. This part is called Bootstrap."
   ]
  },
  {
   "cell_type": "code",
   "execution_count": 337,
   "metadata": {},
   "outputs": [
    {
     "name": "stdout",
     "output_type": "stream",
     "text": [
      "Pipeline(steps=[('randomforestregressor', RandomForestRegressor())])\n",
      "Training Accuracy : 0.9860581511326963\n",
      "Testing Accuracy : 0.9751756180436367\n"
     ]
    }
   ],
   "source": [
    "start = timeit.default_timer()\n",
    "rfr = RandomForestRegressor(n_estimators = 100)\n",
    "rfr_model = make_pipeline(rfr)\n",
    "rfr_model.fit(X_train, y_train)\n",
    "print(rfr_model)\n",
    "print(\"Training Accuracy :\",rfr_model.score(X_train,y_train))\n",
    "print(\"Testing Accuracy :\",rfr_model.score(X_test,y_test))"
   ]
  },
  {
   "cell_type": "code",
   "execution_count": 338,
   "metadata": {},
   "outputs": [
    {
     "name": "stdout",
     "output_type": "stream",
     "text": [
      "score: 0.935 (0.083)\n"
     ]
    }
   ],
   "source": [
    "cv = KFold(n_splits=5, random_state=1, shuffle=True)\n",
    "# evaluate model\n",
    "scores = cross_val_score(rfr_model, X, y, cv=cv, n_jobs=-1)\n",
    "# report performance\n",
    "print('score: %.3f (%.3f)' % (np.mean(scores), np.std(scores)))"
   ]
  },
  {
   "cell_type": "code",
   "execution_count": 339,
   "metadata": {},
   "outputs": [
    {
     "name": "stdout",
     "output_type": "stream",
     "text": [
      "R2 Score: 61731151.702641465\n",
      "Mean Squarred Error: 61731151.702641465\n",
      "Root Mean Squarred Error: 7856.917442778781\n",
      "MAPE: 0.09630418109960538\n"
     ]
    }
   ],
   "source": [
    "rfr_yp = rfr.predict(X_test)\n",
    "print(\"R2 Score:\",mean_squared_error(y_test, rfr_yp))\n",
    "print(\"Mean Squarred Error:\", mean_squared_error(y_test, rfr_yp))\n",
    "print(\"Root Mean Squarred Error:\", math.sqrt(mean_squared_error(y_test, rfr_yp)))\n",
    "print(\"MAPE:\",mean_absolute_percentage_error(y_test, rfr_yp))"
   ]
  },
  {
   "cell_type": "code",
   "execution_count": 340,
   "metadata": {},
   "outputs": [
    {
     "name": "stdout",
     "output_type": "stream",
     "text": [
      "Time:  6.179033399999753\n"
     ]
    },
    {
     "data": {
      "image/png": "[encoded data removed]",
      "text/plain": [
       "<Figure size 432x288 with 1 Axes>"
      ]
     },
     "metadata": {
      "needs_background": "light"
     },
     "output_type": "display_data"
    }
   ],
   "source": [
    "plt.scatter(y_test, rfr_yp)\n",
    "plt.xlabel('True Value')\n",
    "plt.ylabel(\"Predicted Value\")\n",
    "stop = timeit.default_timer()\n",
    "rfr_time = stop - start\n",
    "print('Time: ', rfr_time)"
   ]
  },
  {
   "cell_type": "code",
   "execution_count": 341,
   "metadata": {},
   "outputs": [
    {
     "name": "stdout",
     "output_type": "stream",
     "text": [
      "2000\n",
      "2065902\n",
      "43096.336609336606\n"
     ]
    }
   ],
   "source": [
    "print(df['MSRP'].min())\n",
    "print(df['MSRP'].max())\n",
    "print(df['MSRP'].mean())"
   ]
  },
  {
   "cell_type": "code",
   "execution_count": 342,
   "metadata": {},
   "outputs": [
    {
     "data": {
      "text/html": [
       "<div>\n",
       "<style scoped>\n",
       "    .dataframe tbody tr th:only-of-type {\n",
       "        vertical-align: middle;\n",
       "    }\n",
       "\n",
       "    .dataframe tbody tr th {\n",
       "        vertical-align: top;\n",
       "    }\n",
       "\n",
       "    .dataframe thead th {\n",
       "        text-align: right;\n",
       "    }\n",
       "</style>\n",
       "<table border=\"1\" class=\"dataframe\">\n",
       "  <thead>\n",
       "    <tr style=\"text-align: right;\">\n",
       "      <th></th>\n",
       "      <th>Model</th>\n",
       "      <th>Training Accuracy %</th>\n",
       "      <th>Testing Accuracy %</th>\n",
       "      <th>MAPE</th>\n",
       "      <th>r2 score</th>\n",
       "      <th>MSE</th>\n",
       "      <th>RSME</th>\n",
       "      <th>Time</th>\n",
       "    </tr>\n",
       "  </thead>\n",
       "  <tbody>\n",
       "    <tr>\n",
       "      <th>0</th>\n",
       "      <td>Support Vector Machine</td>\n",
       "      <td>-0.033436</td>\n",
       "      <td>-0.049146</td>\n",
       "      <td>1.635443</td>\n",
       "      <td>-0.049146</td>\n",
       "      <td>2.608926e+09</td>\n",
       "      <td>51077.646645</td>\n",
       "      <td>22.863063</td>\n",
       "    </tr>\n",
       "    <tr>\n",
       "      <th>1</th>\n",
       "      <td>Linear Regression</td>\n",
       "      <td>0.481646</td>\n",
       "      <td>0.542576</td>\n",
       "      <td>1.298923</td>\n",
       "      <td>0.542576</td>\n",
       "      <td>1.137482e+09</td>\n",
       "      <td>33726.583504</td>\n",
       "      <td>1.581266</td>\n",
       "    </tr>\n",
       "    <tr>\n",
       "      <th>2</th>\n",
       "      <td>LGBM Regressor</td>\n",
       "      <td>0.941707</td>\n",
       "      <td>0.945387</td>\n",
       "      <td>0.133840</td>\n",
       "      <td>0.945387</td>\n",
       "      <td>1.358077e+08</td>\n",
       "      <td>11653.657052</td>\n",
       "      <td>3.168372</td>\n",
       "    </tr>\n",
       "    <tr>\n",
       "      <th>3</th>\n",
       "      <td>XGB Regressor</td>\n",
       "      <td>0.993798</td>\n",
       "      <td>0.972187</td>\n",
       "      <td>0.098800</td>\n",
       "      <td>0.972187</td>\n",
       "      <td>6.916293e+07</td>\n",
       "      <td>8316.425418</td>\n",
       "      <td>12.218570</td>\n",
       "    </tr>\n",
       "    <tr>\n",
       "      <th>4</th>\n",
       "      <td>Random Forest Regressor</td>\n",
       "      <td>0.986058</td>\n",
       "      <td>0.975176</td>\n",
       "      <td>0.096304</td>\n",
       "      <td>0.975176</td>\n",
       "      <td>6.173115e+07</td>\n",
       "      <td>7856.917443</td>\n",
       "      <td>6.179033</td>\n",
       "    </tr>\n",
       "  </tbody>\n",
       "</table>\n",
       "</div>"
      ],
      "text/plain": [
       "                     Model  Training Accuracy %  Testing Accuracy %      MAPE  \\\n",
       "0   Support Vector Machine            -0.033436           -0.049146  1.635443   \n",
       "1        Linear Regression             0.481646            0.542576  1.298923   \n",
       "2           LGBM Regressor             0.941707            0.945387  0.133840   \n",
       "3            XGB Regressor             0.993798            0.972187  0.098800   \n",
       "4  Random Forest Regressor             0.986058            0.975176  0.096304   \n",
       "\n",
       "   r2 score           MSE          RSME       Time  \n",
       "0 -0.049146  2.608926e+09  51077.646645  22.863063  \n",
       "1  0.542576  1.137482e+09  33726.583504   1.581266  \n",
       "2  0.945387  1.358077e+08  11653.657052   3.168372  \n",
       "3  0.972187  6.916293e+07   8316.425418  12.218570  \n",
       "4  0.975176  6.173115e+07   7856.917443   6.179033  "
      ]
     },
     "execution_count": 342,
     "metadata": {},
     "output_type": "execute_result"
    }
   ],
   "source": [
    "results_df = pd.DataFrame(data=[[\"Support Vector Machine\", svr_model.score(X_train,y_train),svr_model.score(X_test,y_test),mean_absolute_percentage_error(y_test, svr_yp),r2_score(y_test,svr_yp),mean_squared_error(y_test,svr_yp),math.sqrt(mean_squared_error(y_test,svr_yp)),svr_time]], \n",
    "                          columns=['Model', 'Training Accuracy %', 'Testing Accuracy %','MAPE','r2 score','MSE','RSME','Time'])\n",
    "\n",
    "results_df_2 = pd.DataFrame(data=[[\"Linear Regression\", lr_model.score(X_train,y_train),lr_model.score(X_test,y_test),mean_absolute_percentage_error(y_test, lr_yp),r2_score(y_test,lr_yp),mean_squared_error(y_test,lr_yp),math.sqrt(mean_squared_error(y_test,lr_yp)),lr_time]], \n",
    "                          columns=['Model', 'Training Accuracy %', 'Testing Accuracy %','MAPE','r2 score','MSE','RSME','Time'])\n",
    "results_df = results_df.append(results_df_2, ignore_index=True)\n",
    "\n",
    "results_df_2 = pd.DataFrame(data=[[\"LGBM Regressor\", model.score(X_train,y_train),model.score(X_test,y_test),mean_absolute_percentage_error(y_test, yp),r2_score(y_test,yp),mean_squared_error(y_test,yp),math.sqrt(mean_squared_error(y_test,yp)),lgm_time]], \n",
    "                          columns=['Model', 'Training Accuracy %', 'Testing Accuracy %','MAPE','r2 score','MSE','RSME','Time'])\n",
    "results_df = results_df.append(results_df_2, ignore_index=True)\n",
    "\n",
    "results_df_2 = pd.DataFrame(data=[[\"XGB Regressor\", xgb_grid.score(X_train,y_train),xgb_grid.score(X_test,y_test),mean_absolute_percentage_error(y_test, xgb_predict),r2_score(y_test,xgb_predict),mean_squared_error(y_test,xgb_predict),math.sqrt(mean_squared_error(y_test,xgb_predict)),xgb_time]], \n",
    "                          columns=['Model', 'Training Accuracy %', 'Testing Accuracy %','MAPE','r2 score','MSE','RSME','Time'])\n",
    "results_df = results_df.append(results_df_2, ignore_index=True)\n",
    "\n",
    "results_df_2 = pd.DataFrame(data=[[\"Random Forest Regressor\", rfr_model.score(X_train,y_train),rfr_model.score(X_test,y_test),mean_absolute_percentage_error(y_test, rfr_yp),r2_score(y_test,rfr_yp),mean_squared_error(y_test,rfr_yp),math.sqrt(mean_squared_error(y_test,rfr_yp)),rfr_time]], \n",
    "                          columns=['Model', 'Training Accuracy %', 'Testing Accuracy %','MAPE','r2 score','MSE','RSME','Time'])\n",
    "results_df = results_df.append(results_df_2, ignore_index=True)\n",
    "results_df"
   ]
  },
  {
   "cell_type": "markdown",
   "metadata": {},
   "source": [
    "So, from the above table, the best suitable algorithm for the given dataset is \"Random Forest\" with an accuracy of \"97%\" and the lowest RSME."
   ]
  }
 ],
 "metadata": {
  "interpreter": {
   "hash": "e836cb80f0a92887ccf8fb8bc1744a0a3e63ddfc78de5584b3166b5698ebc83a"
  },
  "kernelspec": {
   "display_name": "Python 3.9.7 ('base')",
   "language": "python",
   "name": "python3"
  },
  "language_info": {
   "codemirror_mode": {
    "name": "ipython",
    "version": 3
   },
   "file_extension": ".py",
   "mimetype": "text/x-python",
   "name": "python",
   "nbconvert_exporter": "python",
   "pygments_lexer": "ipython3",
   "version": "3.9.7"
  },
  "orig_nbformat": 4
 },
 "nbformat": 4,
 "nbformat_minor": 2
}
